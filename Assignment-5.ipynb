{
 "cells": [
  {
   "cell_type": "markdown",
   "metadata": {},
   "source": [
    "#  Assignment 5\n",
    "\n",
    "This assignment covers material on matrices, norms, condition numbers and eigensystems. The assignment is due by 5pm on Friday the 17th of April.\n",
    "\n",
    "The breakdown of the marks is as follows:\n",
    "\n",
    "Question 0 - [1 mark]  \n",
    "Question 1 - [7 marks]  \n",
    "Questino 2 - [6 marks]  \n",
    "Question 3 - [7 marks]  \n",
    "Question 4 - [9 marks]  "
   ]
  },
  {
   "cell_type": "markdown",
   "metadata": {},
   "source": [
    "# Question 0\n",
    "\n",
    "You should have saved this notebook to your ACM20030-Assignments folder. Now:\n",
    "- commit the notebook to your local repository\n",
    "- push the changes to the GitHub"
   ]
  },
  {
   "cell_type": "code",
   "execution_count": 1,
   "metadata": {},
   "outputs": [],
   "source": [
    "import numpy as np\n",
    "from numpy import linalg as la\n",
    "np.set_printoptions(linewidth=200)  # This stops line wrapping of larger matrices"
   ]
  },
  {
   "cell_type": "markdown",
   "metadata": {},
   "source": [
    "# Question 1 - practice manipulating arrays\n",
    "\n",
    "This questions asks you write a few functions for manipulating arrays of data"
   ]
  },
  {
   "cell_type": "markdown",
   "metadata": {},
   "source": [
    "## Q1 a\n",
    "\n",
    "Write a function that checks if a given $n\\times n$ matrix is symmetric. Use only loops and `.shape` function from numpy (do not use any other special numpy functions)."
   ]
  },
  {
   "cell_type": "code",
   "execution_count": 2,
   "metadata": {},
   "outputs": [],
   "source": [
    "def SymmetryTest(A):\n",
    "    n = A.shape[0]\n",
    "    if(A.shape[1]!=n):\n",
    "        return 0\n",
    "    for i in range(0,n):\n",
    "        for j in range(i+1,n): #Checks every number below the diagonal(the diagonal itself doesn't matter)\n",
    "            if(A[i][j] != A[j][i]):\n",
    "                return 0\n",
    "    return 1"
   ]
  },
  {
   "cell_type": "markdown",
   "metadata": {},
   "source": [
    "Test your function on the two matrices below"
   ]
  },
  {
   "cell_type": "code",
   "execution_count": 3,
   "metadata": {},
   "outputs": [
    {
     "name": "stdout",
     "output_type": "stream",
     "text": [
      "The matrix A is not symmetric\n",
      "The matrix SymMatrix is symmetric\n"
     ]
    }
   ],
   "source": [
    "A = np.random.rand(5,5)\n",
    "SymMatrix = (A + A.T)/2\n",
    "def testresult(i):\n",
    "    if(i==0):\n",
    "        return \"not symmetric\"\n",
    "    else:\n",
    "        return \"symmetric\"\n",
    "print(\"The matrix A is\",testresult(SymmetryTest(A)))\n",
    "print(\"The matrix SymMatrix is\",testresult(SymmetryTest(SymMatrix)))"
   ]
  },
  {
   "cell_type": "markdown",
   "metadata": {},
   "source": [
    "## Q1 b\n",
    "\n",
    "Write a function to transpose a general $n\\times n$ matrix. Do this by writing loops and not using any special functions like `np.transpose()`, `A.T`, or any functions from any other library."
   ]
  },
  {
   "cell_type": "code",
   "execution_count": 4,
   "metadata": {},
   "outputs": [],
   "source": [
    "def Transpose(A):\n",
    "    n = A.shape[0]\n",
    "    B = np.empty([n,n])\n",
    "    for i in range(0,n):\n",
    "        for j in range(0,n):\n",
    "            B[i][j] = A[j][i]\n",
    "    return B"
   ]
  },
  {
   "cell_type": "markdown",
   "metadata": {},
   "source": [
    "Check your code by transposing the below random matrix and checking that $A^T \\neq A$ and $(A^T)^T - A = 0$"
   ]
  },
  {
   "cell_type": "code",
   "execution_count": 5,
   "metadata": {
    "scrolled": false
   },
   "outputs": [
    {
     "name": "stdout",
     "output_type": "stream",
     "text": [
      "A = [[0.67993894 0.5667665  0.38933673 0.46020267 0.25362835 0.91774069]\n",
      " [0.10774435 0.44934827 0.84978447 0.24613595 0.84333907 0.4291883 ]\n",
      " [0.71863188 0.75351908 0.25748018 0.24787271 0.0206246  0.74072372]\n",
      " [0.32255151 0.40386148 0.82483328 0.64262932 0.90047358 0.28299347]\n",
      " [0.69574033 0.48061144 0.69866805 0.22873116 0.43035016 0.91011174]\n",
      " [0.55659602 0.0589295  0.76992664 0.75081488 0.60228161 0.96191799]] \n",
      "A.T =\n",
      " [[0.67993894 0.10774435 0.71863188 0.32255151 0.69574033 0.55659602]\n",
      " [0.5667665  0.44934827 0.75351908 0.40386148 0.48061144 0.0589295 ]\n",
      " [0.38933673 0.84978447 0.25748018 0.82483328 0.69866805 0.76992664]\n",
      " [0.46020267 0.24613595 0.24787271 0.64262932 0.22873116 0.75081488]\n",
      " [0.25362835 0.84333907 0.0206246  0.90047358 0.43035016 0.60228161]\n",
      " [0.91774069 0.4291883  0.74072372 0.28299347 0.91011174 0.96191799]] \n",
      "=> A.T is not equal to A\n",
      "\n",
      "A.T.T - A =\n",
      " [[0. 0. 0. 0. 0. 0.]\n",
      " [0. 0. 0. 0. 0. 0.]\n",
      " [0. 0. 0. 0. 0. 0.]\n",
      " [0. 0. 0. 0. 0. 0.]\n",
      " [0. 0. 0. 0. 0. 0.]\n",
      " [0. 0. 0. 0. 0. 0.]] = 0\n"
     ]
    }
   ],
   "source": [
    "A = np.random.rand(6,6)\n",
    "print(\"A =\",A,\"\\nA.T =\\n\",Transpose(A),\"\\n=> A.T is not equal to A\\n\")\n",
    "print(\"A.T.T - A =\\n\",Transpose(Transpose(A))-A,\"= 0\")"
   ]
  },
  {
   "cell_type": "markdown",
   "metadata": {},
   "source": [
    "## Q1c\n",
    "\n",
    "Write a function that finds the maximum entry in a matrix (where the matrix does not need to be square). Do this by writing loops and not using any special functions like `np.max` or any functions from any other library."
   ]
  },
  {
   "cell_type": "code",
   "execution_count": 6,
   "metadata": {},
   "outputs": [],
   "source": [
    "def Maximum(A):\n",
    "    Max = A[0][0]\n",
    "    for i in range(0,A.shape[0]):\n",
    "        for j in range(0,A.shape[1]):\n",
    "            if(Max < A[i][j]):\n",
    "                Max = A[i][j]\n",
    "    return Max"
   ]
  },
  {
   "cell_type": "markdown",
   "metadata": {},
   "source": [
    "Check your result by comparing to `np.max(A)` for the below random matrix"
   ]
  },
  {
   "cell_type": "code",
   "execution_count": 7,
   "metadata": {},
   "outputs": [
    {
     "name": "stdout",
     "output_type": "stream",
     "text": [
      "np.max(A) =  0.9955521402125576\n",
      "Maximum(A) = 0.9955521402125576\n"
     ]
    }
   ],
   "source": [
    "A = np.random.rand(4,5)\n",
    "print(\"np.max(A) = \",np.max(A))\n",
    "print(\"Maximum(A) =\",Maximum(A))"
   ]
  },
  {
   "cell_type": "markdown",
   "metadata": {},
   "source": [
    "# Question 2:  matrix norms\n",
    "\n",
    "In the lectures we focused on the $L^2$-norm. We also briefly mentioned the $L^1$ and $L^\\infty$ norm. Let's look at calculating those as well for a general $m\\times n$ matrix."
   ]
  },
  {
   "cell_type": "markdown",
   "metadata": {},
   "source": [
    "# Q2a\n",
    "\n",
    "The $L^1$ norm is given by\n",
    "\n",
    "$$ \\lVert A \\rVert_1 = \\max_j \\sum^m_{i=1} |a_{ij}| $$\n",
    "\n",
    "i.e., it is the max of the sums of the absolute values of each column. Write a function that computes the $L^1$-norm using only loops. The function should use no special numpy functions except `np.abs()`."
   ]
  },
  {
   "cell_type": "code",
   "execution_count": 8,
   "metadata": {},
   "outputs": [],
   "source": [
    "def L1(A):\n",
    "    MaxSum = 0\n",
    "    for j in range(0,A.shape[1]):\n",
    "        Sum = 0\n",
    "        for i in range(0,A.shape[0]):\n",
    "            Sum += np.abs(A[i][j])\n",
    "        if(MaxSum < Sum):\n",
    "            MaxSum = Sum\n",
    "    return MaxSum"
   ]
  },
  {
   "cell_type": "markdown",
   "metadata": {},
   "source": [
    "Check your result against NumPy's `la.norm(A,1)` function for the following random matrix"
   ]
  },
  {
   "cell_type": "code",
   "execution_count": 9,
   "metadata": {},
   "outputs": [
    {
     "name": "stdout",
     "output_type": "stream",
     "text": [
      "la.norm(A,1) =  2.09093768613607\n",
      "L1(A) = 2.09093768613607\n"
     ]
    }
   ],
   "source": [
    "A = np.random.rand(3,4)\n",
    "print(\"la.norm(A,1) = \",la.norm(A,1))\n",
    "print(\"L1(A) =\",L1(A))"
   ]
  },
  {
   "cell_type": "markdown",
   "metadata": {},
   "source": [
    "## Q2b\n",
    "\n",
    "The $L^\\infty$ norm is given by \n",
    "\n",
    "$$\\lVert A \\rVert_\\infty = \\max_i \\sum_{j=1}^n |a_{ij}|$$\n",
    "\n",
    "i.e., it is the max of the sums of the absolute values of each row. Write a function that computes the $L^\\infty$-norm using only loops and no special numpy functions."
   ]
  },
  {
   "cell_type": "code",
   "execution_count": 10,
   "metadata": {},
   "outputs": [],
   "source": [
    "def Linf(A):\n",
    "    MaxSum = 0\n",
    "    for i in range(0,A.shape[0]):\n",
    "        Sum = 0\n",
    "        for j in range(0,A.shape[1]):\n",
    "            Sum += np.abs(A[i][j])\n",
    "        if(MaxSum < Sum):\n",
    "            MaxSum = Sum\n",
    "    return MaxSum"
   ]
  },
  {
   "cell_type": "markdown",
   "metadata": {},
   "source": [
    "Check your result against NumPy's `la.norm(A,np.inf)` function for the following random matrix"
   ]
  },
  {
   "cell_type": "code",
   "execution_count": 11,
   "metadata": {},
   "outputs": [
    {
     "name": "stdout",
     "output_type": "stream",
     "text": [
      "la.norm(A,np.inf) =  3.0603619205056867\n",
      "Linf(A) = 3.0603619205056867\n"
     ]
    }
   ],
   "source": [
    "A = np.random.rand(3,4)\n",
    "print(\"la.norm(A,np.inf) = \",la.norm(A,np.inf))\n",
    "print(\"Linf(A) =\",Linf(A))"
   ]
  },
  {
   "cell_type": "markdown",
   "metadata": {},
   "source": [
    "# Question 3: ill-conditions systems of equations\n",
    "\n",
    "In this question you can use any of NumPy's functions.\n",
    "\n",
    "## Q3a\n",
    "\n",
    "Which of the following three matrices, $A1, A2, A3$, are ill-conditioned. State the reason for your conclusion."
   ]
  },
  {
   "cell_type": "code",
   "execution_count": 12,
   "metadata": {},
   "outputs": [],
   "source": [
    "A1 = np.array([[0.988746460106, 0.351486109477, 0.024911477532, 0.384039749683],\n",
    "       [0.282104657306, 0.239884151775, 0.36170151991 , 0.903082266861],\n",
    "       [0.59333290915 , 0.637178863968, 0.241229214635, 0.685595037901],\n",
    "       [0.013591747828, 0.917926970364, 0.458689093885, 0.157821121254]])\n",
    "\n",
    "A2 = np.array([[ 2.852416473483e-01,  3.803483118694e-01,  2.697704226632e-01,  6.810611849029e-01],\n",
    "       [ 6.622827828376e-01,  6.447943415836e-01,  4.387842058829e-01,  1.530575702376e+00],\n",
    "       [ 3.672130860703e-01,  8.309522079704e-01,  9.975487474007e-01,  5.678296337101e-01],\n",
    "       [ 4.036490000599e-01,  6.865978225967e-06,  8.788095913773e-01, -7.150472427928e-02]])\n",
    "\n",
    "A3 = np.array([[0.131923621844, 0.245316154195, 0.732362341613, 0.957047891764],\n",
    "       [0.91290446184 , 0.512312007959, 0.391938831444, 0.092509684772],\n",
    "       [0.648708523652, 0.608576675797, 0.576773587276, 0.065385122929],\n",
    "       [0.502955480393, 0.084082960221, 0.659487390444, 0.662958739412]])"
   ]
  },
  {
   "cell_type": "code",
   "execution_count": 13,
   "metadata": {},
   "outputs": [
    {
     "name": "stdout",
     "output_type": "stream",
     "text": [
      "A1 is well-conditioned as its condition number is 21.552466488381846\n",
      "A2 is ill-conditioned as its condition number is 13334936994.070848\n",
      "A2 is well-conditioned as its condition number is 15.12244969941062\n"
     ]
    }
   ],
   "source": [
    "print(\"A1 is well-conditioned as its condition number is\",la.cond(A1))\n",
    "print(\"A2 is ill-conditioned as its condition number is\",la.cond(A2))\n",
    "print(\"A2 is well-conditioned as its condition number is\",la.cond(A3))"
   ]
  },
  {
   "cell_type": "markdown",
   "metadata": {},
   "source": [
    "# Q3b\n",
    "\n",
    "With $b = [1,2,3,4]$ and $\\delta b = [0.1,0,0,0]$ for $A2$ and $A3$ calculate the percentage change in $x$ due to a small change in $b$, i.e., calculate \n",
    "\n",
    "$$100\\times\\frac{\\lVert \\delta x_i\\rVert_2}{\\lVert x_i \\rVert_2}\\quad\\text{and}\\quad 100\\times\\frac{\\lVert \\delta b\\rVert_2}{\\lVert b \\rVert_2}$$\n",
    "\n",
    "where $(x_i+\\delta x_i)  = A_i^{-1}(b+\\delta b)$ and $i\\in\\{2,3\\}$."
   ]
  },
  {
   "cell_type": "code",
   "execution_count": 14,
   "metadata": {},
   "outputs": [
    {
     "name": "stdout",
     "output_type": "stream",
     "text": [
      "Change in b = 1.83 %\n",
      "Change in x for A2 = 512.62 %\n",
      "Change in x for A3 = 2.17 %\n"
     ]
    }
   ],
   "source": [
    "def L2(x):\n",
    "    Sum = 0\n",
    "    for i in x:\n",
    "        Sum += i**2\n",
    "    return(np.sqrt(Sum))\n",
    "b = [1,2,3,4]\n",
    "db = [0.1,0,0,0]\n",
    "print(\"Change in b =\",round(100*L2(db)/L2(b),2),\"%\")\n",
    "lA2b = L2(np.dot(la.inv(A2), b))\n",
    "lA2db= L2(np.dot(la.inv(A2),db))\n",
    "lA3b = L2(np.dot(la.inv(A3), b))\n",
    "lA3db= L2(np.dot(la.inv(A3),db))\n",
    "print(\"Change in x for A2 =\",round(100*lA2db/lA2b,2),\"%\")\n",
    "print(\"Change in x for A3 =\",round(100*lA3db/lA3b,2),\"%\")"
   ]
  },
  {
   "cell_type": "markdown",
   "metadata": {},
   "source": [
    "Which system of equations is more sensitive to small changes in $b$? How could you have guessed this from the answer to the Q3a?"
   ]
  },
  {
   "cell_type": "code",
   "execution_count": 15,
   "metadata": {},
   "outputs": [],
   "source": [
    "# Answer here\n",
    "#A2 is more sensitive to small changes, this could also be inferred from its large condition number"
   ]
  },
  {
   "cell_type": "markdown",
   "metadata": {},
   "source": [
    "# Question 4: eigensystems\n",
    "\n",
    "In this question we look at finding eigenvalues and eigenvectors\n",
    "\n",
    "## Q4a\n",
    "\n",
    "You may use any of NumPy's functions for this sub-question.\n",
    "\n",
    "Find the eigenvalues and eigenvectors for the below matrix. Print out the eigenvalues sorted by descending value and explicitly show that eigenvalues/eigenvector pairs satisfy $Ax = \\lambda x$."
   ]
  },
  {
   "cell_type": "code",
   "execution_count": 16,
   "metadata": {},
   "outputs": [],
   "source": [
    "A = np.array([[1,4,5],[4,5,4],[6,7,9]])"
   ]
  },
  {
   "cell_type": "code",
   "execution_count": 17,
   "metadata": {},
   "outputs": [
    {
     "name": "stdout",
     "output_type": "stream",
     "text": [
      "The eigenvlaues are 15.786 , 1.266 and -2.052\n",
      "A * vectors[0] = [ -6.1962015   -7.01266016 -12.71289871] = 15.79 * vectors[0] = [ -6.1962015   -7.01266016 -12.71289871]\n",
      "A * vectors[1] = [ 1.83806756 -0.74382849 -0.52676368] = -2.05 * vectors[1] = [ 1.83806756 -0.74382849 -0.52676368]\n",
      "A * vectors[2] = [ 0.12430099 -0.98053324  0.79103825] = 1.27 * vectors[2] = [ 0.12430099 -0.98053324  0.79103825]\n"
     ]
    }
   ],
   "source": [
    "(values,vectors) = la.eig(A)\n",
    "print(\"The eigenvlaues are\",round(values[0],3),\",\",round(values[2],3),\"and\",round(values[1],3))\n",
    "for i in range(0,3):\n",
    "    print(\"A * vectors[\"+str(i)+\"] =\",np.dot(A,vectors[:,i]),\"=\",round(values[i],2),\"* vectors[\"+str(i)+\"] =\",np.dot(values[i],vectors[:,i]))\n"
   ]
  },
  {
   "cell_type": "markdown",
   "metadata": {},
   "source": [
    "# Q4b\n",
    "\n",
    "Without using NumPy's `la.eig()` (or similar functions), find the 4 eigenvalues and eigenvectors of the following matrix. Hint: Use the power method for the max eigenvalue (given below in `MaxEigenvalue`), the power method applied to the inverse for the smallest eigenvalue, and apply Hotelling's deflation twice to find the second and third eigenvalues/eigenvectors."
   ]
  },
  {
   "cell_type": "code",
   "execution_count": 18,
   "metadata": {},
   "outputs": [],
   "source": [
    "A = np.array([[1.935052353404, 0.887037260957, 1.534235483277, 1.370691224125],\n",
    "       [0.887037260957, 0.81275989158 , 0.610238622918, 0.999150521052],\n",
    "       [1.534235483277, 0.610238622918, 1.562260333538, 1.007843062517],\n",
    "       [1.370691224125, 0.999150521052, 1.007843062517, 1.813258814483]])"
   ]
  },
  {
   "cell_type": "code",
   "execution_count": 19,
   "metadata": {},
   "outputs": [],
   "source": [
    "def MaxEigenvalue(A, err):\n",
    "    (m,n) = A.shape\n",
    "    if(m != n):\n",
    "        print(\"Matrix must be square\")\n",
    "        return\n",
    "    x = np.random.rand(m)\n",
    "    lam = 0.1\n",
    "    lamprev = 1\n",
    "    while np.abs(1-lam/lamprev) > err:\n",
    "        p = np.dot(A,x)\n",
    "        lamprev = lam\n",
    "        lam = np.max(p)\n",
    "        x = p/lam\n",
    "    x = x/la.norm(x)\n",
    "    return (lam,x)"
   ]
  },
  {
   "cell_type": "code",
   "execution_count": 20,
   "metadata": {},
   "outputs": [
    {
     "name": "stdout",
     "output_type": "stream",
     "text": [
      "The eigenvalues are qeual to 4.915 0.851 0.215 0.143\n",
      "The eigenvectors are equal to the columns of:\n",
      " [[ 0.59947639 -0.30724091  0.38116635 -0.63319961]\n",
      " [ 0.33318808  0.38944451  0.67390089  0.53214539]\n",
      " [ 0.49528108 -0.58292481 -0.34000313  0.54707608]\n",
      " [ 0.53320766  0.64353296 -0.53382364 -0.1287917 ]]\n"
     ]
    }
   ],
   "source": [
    "values = np.zeros(4)\n",
    "vectors = np.empty([4,4])\n",
    "def Areduce(matrix,value,vector):\n",
    "    Areduce = np.empty(A.shape)\n",
    "    uuT = np.empty([len(vector),len(vector)])\n",
    "    for i in range(0,A.shape[0]):\n",
    "        for j in range(0,A.shape[1]):\n",
    "            uuT[i][j] = vector[i]*vector[j]\n",
    "            Areduce[i][j] = matrix[i][j] - value*uuT[i][j]\n",
    "    return Areduce\n",
    "\n",
    "\n",
    "(values[0],vectors[:,0]) = MaxEigenvalue(A,10**-6)\n",
    "u1 = vectors[:,0]\n",
    "Areduce1 = Areduce(A,values[0],u1)\n",
    "(values[1],vectors[:,1]) = MaxEigenvalue(Areduce1,10**-6)\n",
    "u2 = vectors[:,1]\n",
    "Areduce2 = Areduce(Areduce1,values[1],u2)\n",
    "(values[2],vectors[:,2]) = MaxEigenvalue(Areduce2,10**-6)\n",
    "(values[3],vectors[:,3]) = (1/MaxEigenvalue(la.inv(A),10**-8)[0],MaxEigenvalue(la.inv(A),10**-8)[1])\n",
    "print(\"The eigenvalues are qeual to\",round(values[0],3),round(values[1],3),round(values[2],3),round(values[3],3))\n",
    "print(\"The eigenvectors are equal to the columns of:\\n\",vectors)         "
   ]
  },
  {
   "cell_type": "markdown",
   "metadata": {},
   "source": [
    "Check your answers against Numpy's results from `la.eig(A)`"
   ]
  },
  {
   "cell_type": "code",
   "execution_count": 21,
   "metadata": {},
   "outputs": [
    {
     "name": "stdout",
     "output_type": "stream",
     "text": [
      "The eigenvalues are qeual to 4.915 0.851 0.143 0.215\n",
      "The eigenvectors are equal to the columns of:\n",
      " [[ 0.59947641  0.30724064 -0.63319959 -0.3811686 ]\n",
      " [ 0.33318806 -0.3894447   0.53214542 -0.67389895]\n",
      " [ 0.49528112  0.58292464  0.54707607  0.34000478]\n",
      " [ 0.53320761 -0.64353313 -0.12879172  0.53382343]]\n"
     ]
    }
   ],
   "source": [
    "(values,vectors) = la.eig(A) \n",
    "print(\"The eigenvalues are qeual to\",round(values[0],3),round(values[1],3),round(values[2],3),round(values[3],3))\n",
    "print(\"The eigenvectors are equal to the columns of:\\n\",vectors)\n",
    "#Aside from the eigenvalues/vectors being in a different order, \n",
    "#and some of the vectors being out by a factor of -1, these results match well with the code above"
   ]
  }
 ],
 "metadata": {
  "kernelspec": {
   "display_name": "Python 3",
   "language": "python",
   "name": "python3"
  },
  "language_info": {
   "codemirror_mode": {
    "name": "ipython",
    "version": 3
   },
   "file_extension": ".py",
   "mimetype": "text/x-python",
   "name": "python",
   "nbconvert_exporter": "python",
   "pygments_lexer": "ipython3",
   "version": "3.7.3"
  }
 },
 "nbformat": 4,
 "nbformat_minor": 2
}
