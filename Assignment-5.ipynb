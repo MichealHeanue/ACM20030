{
 "cells": [
  {
   "cell_type": "markdown",
   "metadata": {},
   "source": [
    "#  Assignment 5\n",
    "\n",
    "This assignment covers material on matrices, norms, condition numbers and eigensystems. The assignment is due by 5pm on Friday the 17th of April.\n",
    "\n",
    "The breakdown of the marks is as follows:\n",
    "\n",
    "Question 0 - [1 mark]  \n",
    "Question 1 - [7 marks]  \n",
    "Questino 2 - [6 marks]  \n",
    "Question 3 - [7 marks]  \n",
    "Question 4 - [9 marks]  "
   ]
  },
  {
   "cell_type": "markdown",
   "metadata": {},
   "source": [
    "# Question 0\n",
    "\n",
    "You should have saved this notebook to your ACM20030-Assignments folder. Now:\n",
    "- commit the notebook to your local repository\n",
    "- push the changes to the GitHub"
   ]
  },
  {
   "cell_type": "code",
   "execution_count": 2,
   "metadata": {},
   "outputs": [],
   "source": [
    "import numpy as np\n",
    "from numpy import linalg as la\n",
    "np.set_printoptions(linewidth=200)  # This stops line wrapping of larger matrices"
   ]
  },
  {
   "cell_type": "markdown",
   "metadata": {},
   "source": [
    "# Question 1 - practice manipulating arrays\n",
    "\n",
    "This questions asks you write a few functions for manipulating arrays of data"
   ]
  },
  {
   "cell_type": "markdown",
   "metadata": {},
   "source": [
    "## Q1 a\n",
    "\n",
    "Write a function that checks if a given $n\\times n$ matrix is symmetric. Use only loops and `.shape` function from numpy (do not use any other special numpy functions)."
   ]
  },
  {
   "cell_type": "code",
   "execution_count": 3,
   "metadata": {},
   "outputs": [],
   "source": [
    "def SymmetryTest(A):\n",
    "    n = A.shape[0]\n",
    "    if(A.shape[1]!=n):\n",
    "        return 0\n",
    "    for i in range(0,n):\n",
    "        for j in range(i+1,n): #Checks every number below the diagonal(the diagonal itself doesn't matter)\n",
    "            if(A[i][j] != A[j][i]):\n",
    "                return 0\n",
    "    return 1"
   ]
  },
  {
   "cell_type": "markdown",
   "metadata": {},
   "source": [
    "Test your function on the two matrices below"
   ]
  },
  {
   "cell_type": "code",
   "execution_count": 5,
   "metadata": {},
   "outputs": [
    {
     "name": "stdout",
     "output_type": "stream",
     "text": [
      "The matrix A is not symmetric\n",
      "The matrix SymMatrix is symmetric\n"
     ]
    }
   ],
   "source": [
    "A = np.random.rand(5,5)\n",
    "SymMatrix = (A + A.T)/2\n",
    "def testresult(i):\n",
    "    if(i==0):\n",
    "        return \"not symmetric\"\n",
    "    else:\n",
    "        return \"symmetric\"\n",
    "print(\"The matrix A is\",testresult(SymmetryTest(A)))\n",
    "print(\"The matrix SymMatrix is\",testresult(SymmetryTest(SymMatrix)))"
   ]
  },
  {
   "cell_type": "markdown",
   "metadata": {},
   "source": [
    "## Q1 b\n",
    "\n",
    "Write a function to transpose a general $n\\times n$ matrix. Do this by writing loops and not using any special functions like `np.transpose()`, `A.T`, or any functions from any other library."
   ]
  },
  {
   "cell_type": "code",
   "execution_count": 14,
   "metadata": {},
   "outputs": [],
   "source": [
    "def Transpose(A):\n",
    "    n = A.shape[0]\n",
    "    B = np.empty([n,n])\n",
    "    for i in range(0,n):\n",
    "        for j in range(0,n):\n",
    "            B[i][j] = A[j][i]\n",
    "    return B"
   ]
  },
  {
   "cell_type": "markdown",
   "metadata": {},
   "source": [
    "Check your code by transposing the below random matrix and checking that $A^T \\neq A$ and $(A^T)^T - A = 0$"
   ]
  },
  {
   "cell_type": "code",
   "execution_count": 37,
   "metadata": {
    "scrolled": false
   },
   "outputs": [
    {
     "name": "stdout",
     "output_type": "stream",
     "text": [
      "A = [[0.13480859 0.20941445 0.86758202 0.46407576 0.39212711 0.51195779]\n",
      " [0.91698672 0.65966822 0.47449347 0.84165713 0.10309138 0.65235764]\n",
      " [0.8372151  0.27018903 0.71113462 0.79355382 0.97735955 0.01168411]\n",
      " [0.91119138 0.27378443 0.35707589 0.70057212 0.60420393 0.10917041]\n",
      " [0.33612822 0.17483737 0.27128263 0.51424567 0.42149671 0.72845945]\n",
      " [0.57078052 0.86266259 0.13155844 0.4234995  0.42653494 0.19297938]] \n",
      "A.T = [[0.13480859 0.91698672 0.8372151  0.91119138 0.33612822 0.57078052]\n",
      " [0.20941445 0.65966822 0.27018903 0.27378443 0.17483737 0.86266259]\n",
      " [0.86758202 0.47449347 0.71113462 0.35707589 0.27128263 0.13155844]\n",
      " [0.46407576 0.84165713 0.79355382 0.70057212 0.51424567 0.4234995 ]\n",
      " [0.39212711 0.10309138 0.97735955 0.60420393 0.42149671 0.42653494]\n",
      " [0.51195779 0.65235764 0.01168411 0.10917041 0.72845945 0.19297938]] => A.T is not equal to A\n",
      "For example, A[0,1] = 0.20941444767758055 while A.T[0,1] = 0.9169867223588966\n",
      "A.T.T - A = [[0. 0. 0. 0. 0. 0.]\n",
      " [0. 0. 0. 0. 0. 0.]\n",
      " [0. 0. 0. 0. 0. 0.]\n",
      " [0. 0. 0. 0. 0. 0.]\n",
      " [0. 0. 0. 0. 0. 0.]\n",
      " [0. 0. 0. 0. 0. 0.]] = 0\n"
     ]
    }
   ],
   "source": [
    "A = np.random.rand(6,6)\n",
    "print(\"A =\",A,\"\\nA.T =\",Transpose(A),\"=> A.T is not equal to A\")\n",
    "print(\"For example, A[0,1] =\",A[0,1],\"while A.T[0,1] =\",Transpose(A)[0,1])\n",
    "print(\"A.T.T - A =\",Transpose(Transpose(A))-A,\"= 0\")"
   ]
  },
  {
   "cell_type": "markdown",
   "metadata": {},
   "source": [
    "## Q1c\n",
    "\n",
    "Write a function that finds the maximum entry in a matrix (where the matrix does not need to be square). Do this by writing loops and not using any special functions like `np.max` or any functions from any other library."
   ]
  },
  {
   "cell_type": "code",
   "execution_count": 38,
   "metadata": {},
   "outputs": [],
   "source": [
    "def Maximum(A):\n",
    "    Max = A[0][0]\n",
    "    for i in range(0,A.shape[0]):\n",
    "        for j in range(0,A.shape[1]):\n",
    "            if(Max < A[i][j]):\n",
    "                Max = A[i][j]\n",
    "    return Max"
   ]
  },
  {
   "cell_type": "markdown",
   "metadata": {},
   "source": [
    "Check your result by comparing to `np.max(A)` for the below random matrix"
   ]
  },
  {
   "cell_type": "code",
   "execution_count": 44,
   "metadata": {},
   "outputs": [
    {
     "name": "stdout",
     "output_type": "stream",
     "text": [
      "np.max(A) =  0.8357541158890464\n",
      "Maximum(A) = 0.8357541158890464\n"
     ]
    }
   ],
   "source": [
    "A = np.random.rand(4,5)\n",
    "print(\"np.max(A) = \",np.max(A))\n",
    "print(\"Maximum(A) =\",Maximum(A))"
   ]
  },
  {
   "cell_type": "markdown",
   "metadata": {},
   "source": [
    "# Question 2:  matrix norms\n",
    "\n",
    "In the lectures we focused on the $L^2$-norm. We also briefly mentioned the $L^1$ and $L^\\infty$ norm. Let's look at calculating those as well for a general $m\\times n$ matrix."
   ]
  },
  {
   "cell_type": "markdown",
   "metadata": {},
   "source": [
    "# Q2a\n",
    "\n",
    "The $L^1$ norm is given by\n",
    "\n",
    "$$ \\lVert A \\rVert_1 = \\max_j \\sum^m_{i=1} |a_{ij}| $$\n",
    "\n",
    "i.e., it is the max of the sums of the absolute values of each column. Write a function that computes the $L^1$-norm using only loops. The function should use no special numpy functions except `np.abs()`."
   ]
  },
  {
   "cell_type": "code",
   "execution_count": 73,
   "metadata": {},
   "outputs": [],
   "source": [
    "def L1(A):\n",
    "    MaxSum = 0\n",
    "    for j in range(0,A.shape[1]):\n",
    "        Sum = 0\n",
    "        for i in range(0,A.shape[0]):\n",
    "            Sum += np.abs(A[i][j])\n",
    "        if(MaxSum < Sum):\n",
    "            MaxSum = Sum\n",
    "    return MaxSum"
   ]
  },
  {
   "cell_type": "markdown",
   "metadata": {},
   "source": [
    "Check your result against NumPy's `la.norm(A,1)` function for the following random matrix"
   ]
  },
  {
   "cell_type": "code",
   "execution_count": 74,
   "metadata": {},
   "outputs": [
    {
     "name": "stdout",
     "output_type": "stream",
     "text": [
      "la.norm(A,1) =  2.6693810924669688\n",
      "L1(A) = 2.6693810924669688\n"
     ]
    }
   ],
   "source": [
    "A = np.random.rand(3,4)\n",
    "print(\"la.norm(A,1) = \",la.norm(A,1))\n",
    "print(\"L1(A) =\",L1(A))"
   ]
  },
  {
   "cell_type": "markdown",
   "metadata": {},
   "source": [
    "## Q2b\n",
    "\n",
    "The $L^\\infty$ norm is given by \n",
    "\n",
    "$$\\lVert A \\rVert_\\infty = \\max_i \\sum_{j=1}^n |a_{ij}|$$\n",
    "\n",
    "i.e., it is the max of the sums of the absolute values of each row. Write a function that computes the $L^\\infty$-norm using only loops and no special numpy functions."
   ]
  },
  {
   "cell_type": "code",
   "execution_count": 75,
   "metadata": {},
   "outputs": [],
   "source": [
    "def Linf(A):\n",
    "    MaxSum = 0\n",
    "    for i in range(0,A.shape[0]):\n",
    "        Sum = 0\n",
    "        for j in range(0,A.shape[1]):\n",
    "            Sum += np.abs(A[i][j])\n",
    "        if(MaxSum < Sum):\n",
    "            MaxSum = Sum\n",
    "    return MaxSum"
   ]
  },
  {
   "cell_type": "markdown",
   "metadata": {},
   "source": [
    "Check your result against NumPy's `la.norm(A,np.inf)` function for the following random matrix"
   ]
  },
  {
   "cell_type": "code",
   "execution_count": 83,
   "metadata": {},
   "outputs": [
    {
     "name": "stdout",
     "output_type": "stream",
     "text": [
      "la.norm(A,np.inf) =  1.7502118402854183\n",
      "Linf(A) = 1.7502118402854183\n"
     ]
    }
   ],
   "source": [
    "A = np.random.rand(3,4)\n",
    "print(\"la.norm(A,np.inf) = \",la.norm(A,np.inf))\n",
    "print(\"Linf(A) =\",Linf(A))"
   ]
  },
  {
   "cell_type": "markdown",
   "metadata": {},
   "source": [
    "# Question 3: ill-conditions systems of equations\n",
    "\n",
    "In this question you can use any of NumPy's functions.\n",
    "\n",
    "## Q3a\n",
    "\n",
    "Which of the following three matrices, $A1, A2, A3$, are ill-conditioned. State the reason for your conclusion."
   ]
  },
  {
   "cell_type": "code",
   "execution_count": 85,
   "metadata": {},
   "outputs": [],
   "source": [
    "A1 = np.array([[0.988746460106, 0.351486109477, 0.024911477532, 0.384039749683],\n",
    "       [0.282104657306, 0.239884151775, 0.36170151991 , 0.903082266861],\n",
    "       [0.59333290915 , 0.637178863968, 0.241229214635, 0.685595037901],\n",
    "       [0.013591747828, 0.917926970364, 0.458689093885, 0.157821121254]])\n",
    "\n",
    "A2 = np.array([[ 2.852416473483e-01,  3.803483118694e-01,  2.697704226632e-01,  6.810611849029e-01],\n",
    "       [ 6.622827828376e-01,  6.447943415836e-01,  4.387842058829e-01,  1.530575702376e+00],\n",
    "       [ 3.672130860703e-01,  8.309522079704e-01,  9.975487474007e-01,  5.678296337101e-01],\n",
    "       [ 4.036490000599e-01,  6.865978225967e-06,  8.788095913773e-01, -7.150472427928e-02]])\n",
    "\n",
    "A3 = np.array([[0.131923621844, 0.245316154195, 0.732362341613, 0.957047891764],\n",
    "       [0.91290446184 , 0.512312007959, 0.391938831444, 0.092509684772],\n",
    "       [0.648708523652, 0.608576675797, 0.576773587276, 0.065385122929],\n",
    "       [0.502955480393, 0.084082960221, 0.659487390444, 0.662958739412]])"
   ]
  },
  {
   "cell_type": "code",
   "execution_count": 99,
   "metadata": {},
   "outputs": [
    {
     "name": "stdout",
     "output_type": "stream",
     "text": [
      "A1 is ill-conditioned as [3.53851005 0.74962438 0.40138078 0.00761775] 0.09005826852913093 [[ 2.09776876  0.63043493 -2.12169354  0.50475731]\n",
      " [-1.49173934 -1.91136986  3.39922014 -0.19944749]\n",
      " [ 3.49368804  3.84881234 -7.72101366  3.01594234]\n",
      " [-1.6583406  -0.1234246   2.85225727 -1.31263902]]\n",
      "A2 is ill-conditioned as its condition number is 13334936994.070848\n",
      "A3 is ill-conditioned as [3.9195836  1.01874455 0.09504718 0.0171394 ] -0.08065291344382224 [[-0.62576811  1.60524543 -1.20942492  0.79864351]\n",
      " [ 2.06785772  1.41738796  0.05698576 -3.18856496]\n",
      " [-1.69308062 -3.54198708  3.30322793  2.61259907]\n",
      " [ 1.89669001  2.12584972 -2.37562569 -1.29201749]]\n"
     ]
    }
   ],
   "source": [
    "print(\"A1 is ill-conditioned as\",la.eig(A1.T@A1)[0],la.det(A1),la.inv(A1))\n",
    "print(\"A2 is ill-conditioned as its condition number is\",la.cond(A2))\n",
    "print(\"A3 is ill-conditioned as\",la.eig(A3.T@A3)[0],la.det(A3),la.inv(A3))"
   ]
  },
  {
   "cell_type": "markdown",
   "metadata": {},
   "source": [
    "# Q3b\n",
    "\n",
    "With $b = [1,2,3,4]$ and $\\delta b = [0.1,0,0,0]$ for $A2$ and $A3$ calculate the percentage change in $x$ due to a small change in $b$, i.e., calculate \n",
    "\n",
    "$$100\\times\\frac{\\lVert \\delta x_i\\rVert_2}{\\lVert x_i \\rVert_2}\\quad\\text{and}\\quad 100\\times\\frac{\\lVert \\delta b\\rVert_2}{\\lVert b \\rVert_2}$$\n",
    "\n",
    "where $(x_i+\\delta x_i)  = A_i^{-1}(b+\\delta b)$ and $i\\in\\{2,3\\}$."
   ]
  },
  {
   "cell_type": "code",
   "execution_count": null,
   "metadata": {},
   "outputs": [],
   "source": []
  },
  {
   "cell_type": "markdown",
   "metadata": {},
   "source": [
    "Which system of equations is more sensitive to small changes in $b$? How could you have guessed this from the answer to the Q3a?"
   ]
  },
  {
   "cell_type": "code",
   "execution_count": 10,
   "metadata": {},
   "outputs": [],
   "source": [
    "# Answer here\n",
    "#"
   ]
  },
  {
   "cell_type": "markdown",
   "metadata": {},
   "source": [
    "# Question 4: eigensystems\n",
    "\n",
    "In this question we look at finding eigenvalues and eigenvectors\n",
    "\n",
    "## Q4a\n",
    "\n",
    "You may use any of NumPy's functions for this sub-question.\n",
    "\n",
    "Find the eigenvalues and eigenvectors for the below matrix. Print out the eigenvalues sorted by descending value and explicitly show that eigenvalues/eigenvector pairs satisfy $Ax = \\lambda x$."
   ]
  },
  {
   "cell_type": "code",
   "execution_count": 50,
   "metadata": {},
   "outputs": [],
   "source": [
    "A = np.array([[1,4,5],[4,5,4],[6,7,9]])"
   ]
  },
  {
   "cell_type": "code",
   "execution_count": null,
   "metadata": {},
   "outputs": [],
   "source": []
  },
  {
   "cell_type": "markdown",
   "metadata": {},
   "source": [
    "# Q4b\n",
    "\n",
    "Without using NumPy's `la.eig()` (or similar functions), find the 4 eigenvalues and eigenvectors of the following matrix. Hint: Use the power method for the max eigenvalue (given below in `MaxEigenvalue`), the power method applied to the inverse for the smallest eigenvalue, and apply Hotelling's deflation twice to find the second and third eigenvalues/eigenvectors."
   ]
  },
  {
   "cell_type": "code",
   "execution_count": 52,
   "metadata": {},
   "outputs": [],
   "source": [
    "A = np.array([[1.935052353404, 0.887037260957, 1.534235483277, 1.370691224125],\n",
    "       [0.887037260957, 0.81275989158 , 0.610238622918, 0.999150521052],\n",
    "       [1.534235483277, 0.610238622918, 1.562260333538, 1.007843062517],\n",
    "       [1.370691224125, 0.999150521052, 1.007843062517, 1.813258814483]])"
   ]
  },
  {
   "cell_type": "code",
   "execution_count": 53,
   "metadata": {},
   "outputs": [],
   "source": [
    "def MaxEigenvalue(A, err):\n",
    "    (m,n) = A.shape\n",
    "    if(m != n):\n",
    "        print(\"Matrix must be square\")\n",
    "        return\n",
    "    x = np.random.rand(m)\n",
    "    \n",
    "    lam = 0.1\n",
    "    lamprev = 1\n",
    "    while np.abs(1-lam/lamprev) > err:\n",
    "        p = np.dot(A,x)\n",
    "        lamprev = lam\n",
    "        lam = np.max(p)\n",
    "        x = p/lam\n",
    "        \n",
    "    x = x/la.norm(x)\n",
    "    return (lam,x)"
   ]
  },
  {
   "cell_type": "code",
   "execution_count": null,
   "metadata": {},
   "outputs": [],
   "source": []
  },
  {
   "cell_type": "markdown",
   "metadata": {},
   "source": [
    "Check your answers against Numpy's results from `la.eig(A)`"
   ]
  },
  {
   "cell_type": "code",
   "execution_count": null,
   "metadata": {},
   "outputs": [],
   "source": []
  }
 ],
 "metadata": {
  "kernelspec": {
   "display_name": "Python 3",
   "language": "python",
   "name": "python3"
  },
  "language_info": {
   "codemirror_mode": {
    "name": "ipython",
    "version": 3
   },
   "file_extension": ".py",
   "mimetype": "text/x-python",
   "name": "python",
   "nbconvert_exporter": "python",
   "pygments_lexer": "ipython3",
   "version": "3.7.3"
  }
 },
 "nbformat": 4,
 "nbformat_minor": 2
}
