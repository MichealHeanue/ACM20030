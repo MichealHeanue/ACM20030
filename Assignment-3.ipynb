{
 "cells": [
  {
   "cell_type": "markdown",
   "metadata": {},
   "source": [
    "# Assignment 3\n",
    "This assignment covers material on fitting data and solving ODEs. The assignment is due on by 7pm on Friday the 6th of March.\n",
    "\n",
    "The breakdown of the marks is as follows:\n",
    "\n",
    "Q0: [1 mark]  \n",
    "Q1: [7 marks]  \n",
    "Q2: [5 marks]  \n",
    "Q3: [5 marks]  \n",
    "Q4: [5 marks]  \n",
    "Q5: [7 marks]  "
   ]
  },
  {
   "cell_type": "markdown",
   "metadata": {},
   "source": [
    "# Question 0\n",
    "\n",
    "You should have saved this notebook to your ACM20030-Assignments folder. Now:\n",
    "- commit the notebook to your local repository\n",
    "- push the changes to the GitHub"
   ]
  },
  {
   "cell_type": "code",
   "execution_count": 1,
   "metadata": {},
   "outputs": [],
   "source": [
    "import numpy as np\n",
    "import matplotlib.pyplot as plt\n",
    "\n",
    "# The below commands make the font and image size bigger\n",
    "plt.rcParams.update({'font.size': 22})\n",
    "plt.rcParams[\"figure.figsize\"] = (15,10)"
   ]
  },
  {
   "cell_type": "markdown",
   "metadata": {},
   "source": [
    "## Question 1: Linear least-square fitting\n",
    "This questions asks you to write a function to find the best linear fit to a dataset and then apply that function to a few data sets. As always when testing a new piece of code, you should first test the code on a small data set for which you know the result. The other advantage of testing with a small dataset is that you can manually check each step of the calculation if you need to debug the code.\n",
    "\n",
    "The normal equations for linear least-squares fitting are given by:  \n",
    "  \n",
    "$$\n",
    "  \\begin{align*}\n",
    "    m \\sum x_i^2 + c \\sum x_i &= \\sum x_i y_i \\\\\n",
    "    m \\sum x_i + cn &= \\sum y_i\n",
    "  \\end{align*}\n",
    "$$\n",
    "  \n",
    "Write these simultaneous equations in matrix for $A.x = b$, where $A$ is a $2\\times2$ matrix and $x=\\{m,c\\}$ and $b$ are column vectors. Note that for a $2\\times2$ matrix \n",
    "$$\n",
    "A = \\begin{pmatrix}\n",
    "    a  & b \\\\\n",
    "    c  & d \n",
    "\\end{pmatrix}\n",
    "$$\n",
    "the inverse is given by\n",
    "$$\n",
    "A^{-1} = \\frac{1}{ad-bc}\\begin{pmatrix}\n",
    "    d  & -b \\\\\n",
    "    -c  & a \n",
    "\\end{pmatrix}\n",
    "$$"
   ]
  },
  {
   "cell_type": "markdown",
   "metadata": {},
   "source": [
    "### Q1a.\n",
    "\n",
    "Write a function that takes in two arrays of data for the x and y values and returns the values of $m$ and $c$ from for the linear least squares fit. Call the function `LinearLeastSquares`. You might want to use the function `np.dot(A,b)` which will take the dot product of a matrix, $A$ and a vector, $b$."
   ]
  },
  {
   "cell_type": "code",
   "execution_count": 2,
   "metadata": {},
   "outputs": [],
   "source": [
    "def LinearLeastSquares(data):\n",
    "    X = 0\n",
    "    X2 = 0\n",
    "    Y = 0\n",
    "    Y2 = 0\n",
    "    XY = 0\n",
    "    n = len(data)\n",
    "    for i in range(0,n):\n",
    "        X += data[i][0]\n",
    "        X2 += data[i][0]**2\n",
    "        Y += data[i][1]\n",
    "        Y2 += data[i][1]**2\n",
    "        XY += data[i][0]*data[i][1]\n",
    "    A = [[X2,X],\n",
    "         [X,n]]\n",
    "    detA = n*X2 - X**2\n",
    "    Inverse = [[A[1][1]/detA,-1*A[0][1]/detA],\n",
    "               [-1*A[1][0]/detA,A[0][0]/detA]]\n",
    "    m = Inverse[0][0]*XY+Inverse[0][1]*Y\n",
    "    c = Inverse[1][0]*XY+Inverse[1][1]*Y\n",
    "    return (m,c)\n"
   ]
  },
  {
   "cell_type": "markdown",
   "metadata": {},
   "source": [
    "Test you function with the data we looked at in the lecture, given below:"
   ]
  },
  {
   "cell_type": "code",
   "execution_count": 3,
   "metadata": {},
   "outputs": [],
   "source": [
    "testdata  = np.array([[20.5, 765], [32.7, 826], [51.0, 873], [73.2,942], [95.7,1032]])\n",
    "(m,c) = LinearLeastSquares(testdata)"
   ]
  },
  {
   "cell_type": "markdown",
   "metadata": {},
   "source": [
    "You should get the result $m=3.394872522996579$ and $c=702.1720627939267$. Explicitly print these values out."
   ]
  },
  {
   "cell_type": "code",
   "execution_count": 4,
   "metadata": {},
   "outputs": [
    {
     "name": "stdout",
     "output_type": "stream",
     "text": [
      "m = 3.394872522996579 , c = 702.1720627939267\n"
     ]
    }
   ],
   "source": [
    "print(\"m =\",m,\", c =\", c)"
   ]
  },
  {
   "cell_type": "markdown",
   "metadata": {},
   "source": [
    "### Q1b\n",
    "Plot the data, using `plt.scatter(xi, yi)`, and the best fit curve over the full range of the data. Add a legend to the plot that labels the data and line with its equation."
   ]
  },
  {
   "cell_type": "code",
   "execution_count": 5,
   "metadata": {},
   "outputs": [
    {
     "data": {
      "text/plain": [
       "Text(0.5, 1.0, 'Linear Least Square of testdata')"
      ]
     },
     "execution_count": 5,
     "metadata": {},
     "output_type": "execute_result"
    },
    {
     "data": {
      "image/png": "[encoded data removed]",
      "text/plain": [
       "<Figure size 432x288 with 1 Axes>"
      ]
     },
     "metadata": {
      "needs_background": "light"
     },
     "output_type": "display_data"
    }
   ],
   "source": [
    "xi = [testdata[i][0] for i in range(0,len(testdata))]\n",
    "yi = [testdata[i][1] for i in range(0,len(testdata))]\n",
    "plt.scatter(xi,yi,label = \"testdata\")\n",
    "x = np.linspace(0, 100, 1000)\n",
    "plt.plot(x, m*x+c,'r-',label = \"Least Square Line\")\n",
    "plt.grid(True)\n",
    "plt.legend()\n",
    "plt.title(\"Linear Least Square of testdata\")"
   ]
  },
  {
   "cell_type": "markdown",
   "metadata": {},
   "source": [
    "### Q1c\n",
    "Load the data in `FitData1.dat` and fit the data using your `LinearLeastSquares` function. Print out the value of $m$ and $c$ to 5 decimal places, and plot the data and the fit."
   ]
  },
  {
   "cell_type": "code",
   "execution_count": 11,
   "metadata": {},
   "outputs": [
    {
     "data": {
      "text/plain": [
       "Text(0.5, 1.0, 'Linear Least Square of FitData1')"
      ]
     },
     "execution_count": 11,
     "metadata": {},
     "output_type": "execute_result"
    },
    {
     "data": {
      "image/png": "[encoded data removed]",
      "text/plain": [
       "<Figure size 432x288 with 1 Axes>"
      ]
     },
     "metadata": {
      "needs_background": "light"
     },
     "output_type": "display_data"
    }
   ],
   "source": [
    "data1=np.genfromtxt(\"FitData1.dat\", unpack=True)\n",
    "data2 = np.transpose(data1)\n",
    "(m, c) = LinearLeastSquares(data2)\n",
    "xi = [data2[i][0] for i in range(0,len(data2))]\n",
    "yi = [data2[i][1] for i in range(0,len(data2))]\n",
    "plt.scatter(xi,yi,label = \"FitData1\")\n",
    "x = np.linspace(0, 100, 1000)\n",
    "plt.plot(x, m*x+c,'r-',label = \"Least Square Line\")\n",
    "plt.grid(True)\n",
    "plt.legend()\n",
    "plt.title(\"Linear Least Square of FitData1\")"
   ]
  },
  {
   "cell_type": "markdown",
   "metadata": {},
   "source": [
    "### Q1d\n",
    "Load the data in `FitData2.dat`. Determine whether this data is (approximately) power law or exponential. Depending on the answer, fit either the log or log-log of the data using your `LinearLeastSquares` function. Print the values of $m$ and $c$, and plot the (log or log-log of the) data and the fit. State explicitly what the approximate behaviour of the data is."
   ]
  },
  {
   "cell_type": "code",
   "execution_count": 59,
   "metadata": {},
   "outputs": [
    {
     "name": "stderr",
     "output_type": "stream",
     "text": [
      "C:\\Users\\Micheal\\Anaconda3\\lib\\site-packages\\ipykernel_launcher.py:23: RuntimeWarning: divide by zero encountered in power\n"
     ]
    },
    {
     "name": "stdout",
     "output_type": "stream",
     "text": [
      "-3.011279987028473 0.05786989328845493\n"
     ]
    },
    {
     "data": {
      "image/png": "[encoded data removed]",
      "text/plain": [
       "<Figure size 432x288 with 1 Axes>"
      ]
     },
     "metadata": {
      "needs_background": "light"
     },
     "output_type": "display_data"
    }
   ],
   "source": [
    "data3=np.genfromtxt(\"FitData2.dat\", unpack=True)\n",
    "data4 = np.transpose(data3)\n",
    "(m, c) = LinearLeastSquares(data4)\n",
    "xi = [data4[i][0] for i in range(0,len(data4))]\n",
    "yi = [data4[i][1] for i in range(0,len(data4))]\n",
    "plt.scatter(xi,yi,label = \"FitData2\")\n",
    "plt.xscale('log')\n",
    "plt.yscale('log') #FitData2 is an exponential y = kX^n\n",
    "plt.xlim(1,100)\n",
    "plt.ylim(1,.000001)\n",
    "plt.grid(True)\n",
    "plt.legend()\n",
    "plt.title(\"Linear Least Square of FitData1\")\n",
    "datalog = data4\n",
    "for i in range(0,len(data4)):\n",
    "    datalog[i][0] = np.log(data4[i][0])\n",
    "    datalog[i][1] = np.log(data4[i][1])\n",
    "\n",
    "(m, c) = LinearLeastSquares(datalog)\n",
    "x = np.linspace(0, 100, 1000)\n",
    "plt.plot(x, np.exp(c)*x**m,'r-',label = \"Least Square Line\")\n",
    "print(m,c)"
   ]
  },
  {
   "cell_type": "markdown",
   "metadata": {},
   "source": [
    "Commit and push your code to GitHub"
   ]
  },
  {
   "cell_type": "markdown",
   "metadata": {},
   "source": [
    "## Question 2: second-order ODEs\n",
    "\n",
    "Use the below second-order version of the (fixed-step) RK2 function for this question."
   ]
  },
  {
   "cell_type": "code",
   "execution_count": 8,
   "metadata": {},
   "outputs": [],
   "source": [
    "def RK2(f, dx, x0, y0, imax):\n",
    "    output = np.empty((imax, 3))\n",
    "    i = 0\n",
    "    xi = x0\n",
    "    yi = y0\n",
    "    while(i < imax):\n",
    "        k1 = dx*f(xi, yi)\n",
    "        k2 = dx*f(xi + dx, yi + k1)\n",
    "        yi = yi + 0.5*(k1 + k2)\n",
    "        xi += dx\n",
    "        output[i, 0] = xi\n",
    "        output[i, 1] = yi[0]\n",
    "        output[i, 2] = yi[1]\n",
    "        i += 1\n",
    "    return output\n"
   ]
  },
  {
   "cell_type": "markdown",
   "metadata": {},
   "source": [
    "### Q2a\n",
    "\n",
    "Write the follow ODEs in first-order form and then solve them using the `RK2` function. Plot the numerical and analytic solution on the same plot (with a grid, labelling the axes and a legend).\n",
    "\n",
    "$$\n",
    " y''(x) - y'(x) +\\frac{1}{4} y(x) = -\\sin(x)\n",
    "$$\n",
    "with $y(0) = 0, y'(0) = 73/100$. Find the numerical solution between $x=0$ and $x=9$.\n",
    "\n",
    "This has the analytic solution:\n",
    "\n",
    "$$\n",
    "y(x) = \\frac{1}{100} \\left(-7 e^{x/2} x+64 e^{x/2}+48 \\sin (x)-64 \\cos (x)\\right)\n",
    "$$\n",
    "\n",
    "For the numerical solution, start with a step size of $\\Delta x = 0.1$. You may need to adjust this to get the numerical solution to agree with the analytic solution."
   ]
  },
  {
   "cell_type": "code",
   "execution_count": null,
   "metadata": {},
   "outputs": [],
   "source": []
  },
  {
   "cell_type": "markdown",
   "metadata": {},
   "source": [
    "How small do you have to make the step size for the numerical solution to agree well with the analytic solution? What does this suggest about the equation?"
   ]
  },
  {
   "cell_type": "code",
   "execution_count": 9,
   "metadata": {},
   "outputs": [],
   "source": [
    "# Write answer here"
   ]
  },
  {
   "cell_type": "markdown",
   "metadata": {},
   "source": [
    "### Q2b\n",
    "\n",
    "Write the follow ODEs in first-order form and then solve them using the `RK2` function. Plot the numerical solution (with a grid and labelling the axes). There is no analytic solution to compare against.\n",
    "\n",
    "$$y''(x) + x y'(x) - \\sin(x) y(x) = 0 $$"
   ]
  },
  {
   "cell_type": "code",
   "execution_count": null,
   "metadata": {},
   "outputs": [],
   "source": []
  },
  {
   "cell_type": "markdown",
   "metadata": {},
   "source": [
    "Commit and push your code to GitHub"
   ]
  },
  {
   "cell_type": "markdown",
   "metadata": {},
   "source": [
    "## Question 3: chaos\n",
    "\n",
    "(Q3a): Use SciPy's `solve_ivp` to solve the Lorenz system:\n",
    "\n",
    "$$\\begin{align}\n",
    "\\frac{dx}{dt} &= \\sigma(y-x) \\\\\n",
    "\\frac{dy}{dt} &= x(\\rho -z) - y   \\\\\n",
    "\\frac{dz}{dt} &= x y- \\beta z\n",
    "\\end{align}$$\n",
    "\n",
    "with $ \\rho = 28$, $\\sigma = 10$ and $\\beta = 8/3$, and initial conditions $x(0) = 1, y(0) = 1, z(0) = 1$.\n",
    "\n",
    "You'll need to `import` the `solve_ivp` function from `scipy`. Solve for the solution between $x=0$ and $x=30$ and pass the optional argument `t_eval=np.linspace(0,30,10000)` to `solve_ivp` to densely sample the result."
   ]
  },
  {
   "cell_type": "code",
   "execution_count": null,
   "metadata": {},
   "outputs": [],
   "source": []
  },
  {
   "cell_type": "markdown",
   "metadata": {},
   "source": [
    "Assign your solution to a variable called `solLorenz` and use the following code to make a 3D plot of the solution"
   ]
  },
  {
   "cell_type": "code",
   "execution_count": 10,
   "metadata": {},
   "outputs": [
    {
     "ename": "NameError",
     "evalue": "name 'solLorenz' is not defined",
     "output_type": "error",
     "traceback": [
      "\u001b[1;31m---------------------------------------------------------------------------\u001b[0m",
      "\u001b[1;31mNameError\u001b[0m                                 Traceback (most recent call last)",
      "\u001b[1;32m<ipython-input-10-fc70e755d3e0>\u001b[0m in \u001b[0;36m<module>\u001b[1;34m\u001b[0m\n\u001b[0;32m      2\u001b[0m \u001b[0mfig\u001b[0m \u001b[1;33m=\u001b[0m \u001b[0mplt\u001b[0m\u001b[1;33m.\u001b[0m\u001b[0mfigure\u001b[0m\u001b[1;33m(\u001b[0m\u001b[1;33m)\u001b[0m\u001b[1;33m\u001b[0m\u001b[1;33m\u001b[0m\u001b[0m\n\u001b[0;32m      3\u001b[0m \u001b[0max\u001b[0m \u001b[1;33m=\u001b[0m \u001b[0mfig\u001b[0m\u001b[1;33m.\u001b[0m\u001b[0mgca\u001b[0m\u001b[1;33m(\u001b[0m\u001b[0mprojection\u001b[0m\u001b[1;33m=\u001b[0m\u001b[1;34m'3d'\u001b[0m\u001b[1;33m)\u001b[0m\u001b[1;33m\u001b[0m\u001b[1;33m\u001b[0m\u001b[0m\n\u001b[1;32m----> 4\u001b[1;33m \u001b[0max\u001b[0m\u001b[1;33m.\u001b[0m\u001b[0mplot\u001b[0m\u001b[1;33m(\u001b[0m\u001b[0msolLorenz\u001b[0m\u001b[1;33m.\u001b[0m\u001b[0my\u001b[0m\u001b[1;33m[\u001b[0m\u001b[1;36m0\u001b[0m\u001b[1;33m]\u001b[0m\u001b[1;33m,\u001b[0m \u001b[0msolLorenz\u001b[0m\u001b[1;33m.\u001b[0m\u001b[0my\u001b[0m\u001b[1;33m[\u001b[0m\u001b[1;36m1\u001b[0m\u001b[1;33m]\u001b[0m\u001b[1;33m,\u001b[0m \u001b[0msolLorenz\u001b[0m\u001b[1;33m.\u001b[0m\u001b[0my\u001b[0m\u001b[1;33m[\u001b[0m\u001b[1;36m2\u001b[0m\u001b[1;33m]\u001b[0m\u001b[1;33m)\u001b[0m\u001b[1;33m;\u001b[0m\u001b[1;33m\u001b[0m\u001b[1;33m\u001b[0m\u001b[0m\n\u001b[0m",
      "\u001b[1;31mNameError\u001b[0m: name 'solLorenz' is not defined"
     ]
    },
    {
     "data": {
      "image/png": "[encoded data removed]",
      "text/plain": [
       "<Figure size 432x288 with 1 Axes>"
      ]
     },
     "metadata": {
      "needs_background": "light"
     },
     "output_type": "display_data"
    }
   ],
   "source": [
    "from mpl_toolkits.mplot3d import Axes3D\n",
    "fig = plt.figure()\n",
    "ax = fig.gca(projection='3d')\n",
    "ax.plot(solLorenz.y[0], solLorenz.y[1], solLorenz.y[2]);"
   ]
  },
  {
   "cell_type": "markdown",
   "metadata": {},
   "source": [
    "(Q3b): The Lorenz ODEs are a classic example of a system of ODEs which exhibit chaos, i.e., small changes in the initial parameters will result in large changes to the solution at late times. To see this, solve the Lorenz system again with initial parameters $x(0) = 1 + 10^{-5}, y(0) = 1, z(0) = 1$, and plot both this solution and the previous solution on a new 3D plot."
   ]
  },
  {
   "cell_type": "code",
   "execution_count": null,
   "metadata": {},
   "outputs": [],
   "source": []
  },
  {
   "cell_type": "markdown",
   "metadata": {},
   "source": [
    "You should see that initially the two curves are together but later one they start to diverge. The Lorenz system was original developed as a simple model of atmospheric convection and already this simple system, much like real weather, displays chaotic behaviour."
   ]
  },
  {
   "cell_type": "markdown",
   "metadata": {},
   "source": [
    "Commit and push your code to GitHub"
   ]
  },
  {
   "cell_type": "markdown",
   "metadata": {},
   "source": [
    "## Question 4: equilbrium points\n",
    "\n",
    "Using `solve_ivp` solve the non-linear first-order equation:\n",
    "\n",
    "$$u'(x) = u(x)[1-u(x)]$$\n",
    "\n",
    "Find and plot the solution between $x=0$ and $x=8$ for the following 10 initial values: $u(x) = \\{0, 0.2, 0.4, 0.6, 0.8, 1, 1.2, 1.4, 1.8\\}$. Draw a grid on the plot and label your axes.\n",
    "\n",
    "You should find the systems with initial values $u(0) = \\{0,1\\}$ do not evolve as the right-hand side equals zero in these cases. These two values are called *equilibrium points*. You should observe that systems with $u(0) > 0$ should tend to $u=1$ for large $x$ (and away from $u=1$). For this reason we say that $u=1$ is a stable equilbrium and $u=0$ is an unstable equilbrium."
   ]
  },
  {
   "cell_type": "code",
   "execution_count": null,
   "metadata": {},
   "outputs": [],
   "source": []
  },
  {
   "cell_type": "markdown",
   "metadata": {},
   "source": [
    "Commit and push your code to GitHub"
   ]
  },
  {
   "cell_type": "markdown",
   "metadata": {},
   "source": [
    "## Question 5: implicit methods\n",
    "\n",
    "Write a function to solve the following first-order ODE using the backwards Euler method:\n",
    "\n",
    "$$\n",
    "y'(x) = -y(x) + x\n",
    "$$\n",
    "with $y(0) = 1$\n",
    "\n",
    "This has the analytic solution\n",
    "$$\n",
    " y(x) = -1 + 2e^{-x} + x\n",
    "$$\n",
    "\n",
    "Plot the numerical and analytics solutions. Show a grid, label your axes and show a legend."
   ]
  },
  {
   "cell_type": "code",
   "execution_count": null,
   "metadata": {},
   "outputs": [],
   "source": []
  },
  {
   "cell_type": "markdown",
   "metadata": {},
   "source": [
    "Commit and push your code to GitHub"
   ]
  },
  {
   "cell_type": "markdown",
   "metadata": {},
   "source": [
    "To hand in the assignment: **Zip/compress the directory containing all your assignments and upload it to BrightSpace**"
   ]
  }
 ],
 "metadata": {
  "kernelspec": {
   "display_name": "Python 3",
   "language": "python",
   "name": "python3"
  },
  "language_info": {
   "codemirror_mode": {
    "name": "ipython",
    "version": 3
   },
   "file_extension": ".py",
   "mimetype": "text/x-python",
   "name": "python",
   "nbconvert_exporter": "python",
   "pygments_lexer": "ipython3",
   "version": "3.7.3"
  }
 },
 "nbformat": 4,
 "nbformat_minor": 2
}
