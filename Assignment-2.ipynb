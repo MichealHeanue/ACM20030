{
 "cells": [
  {
   "cell_type": "markdown",
   "metadata": {},
   "source": [
    "# Assignment 2\n",
    "This is due by 5pm on Friday 21st February. The mark breakdown is:\n",
    "\n",
    "- Q0 [1 marks]\n",
    "- Q1 [10 marks]\n",
    "- Q2 [10 marks]\n",
    "- Q3 [9 marks]\n",
    "\n",
    "It is adviseable that you tidy up your notebook before submitting the final version. Also, remember to add comments to your code."
   ]
  },
  {
   "cell_type": "markdown",
   "metadata": {},
   "source": [
    "# Question 0\n",
    "\n",
    "You should have saved this notebook to your ACM20030-Assignments folder. Now:\n",
    "- commit the notebook to your local repository\n",
    "- push the changes to the GitHub"
   ]
  },
  {
   "cell_type": "code",
   "execution_count": 1,
   "metadata": {},
   "outputs": [],
   "source": [
    "import numpy as np\n",
    "import matplotlib.pyplot as plt\n",
    "\n",
    "# The below commands make the font and image size bigger\n",
    "plt.rcParams.update({'font.size': 22})\n",
    "plt.rcParams[\"figure.figsize\"] = (15,10)"
   ]
  },
  {
   "cell_type": "markdown",
   "metadata": {},
   "source": [
    "# Question 1: Bisection method"
   ]
  },
  {
   "cell_type": "markdown",
   "metadata": {},
   "source": [
    "### Q. 1a\n",
    "Define a function for the quintic $f(x) = x^5+12 x^4-15 x^3-386 x^2-180 x+1800$ and plot it in the range $x=-11\\dots6$"
   ]
  },
  {
   "cell_type": "code",
   "execution_count": 67,
   "metadata": {},
   "outputs": [
    {
     "data": {
      "text/plain": [
       "Text(0.5, 1.0, 'Graph of f(x)')"
      ]
     },
     "execution_count": 67,
     "metadata": {},
     "output_type": "execute_result"
    },
    {
     "data": {
      "image/png": "[encoded data removed]",
      "text/plain": [
       "<Figure size 432x288 with 1 Axes>"
      ]
     },
     "metadata": {
      "needs_background": "light"
     },
     "output_type": "display_data"
    }
   ],
   "source": [
    "def f(x):\n",
    "    ans = x**5 + 12*x**4 - 15*x**3 - 386*x**2 - 180*x + 1800\n",
    "    return ans\n",
    "x = np.arange(-11,6,.1)\n",
    "plt.grid(True)\n",
    "plt.plot(x,f(x),'r-')\n",
    "plt.title(\"Graph of f(x)\")\n"
   ]
  },
  {
   "cell_type": "markdown",
   "metadata": {},
   "source": [
    "### Q. 1b\n",
    "Using the plot, pick values of $a$ and $b$ such that $f(a) < 0$ and $f(b) > 0$ and the function has a **single** root in the region $(a,b)$. Assign variables called a and b to these values and print the values of $f(a)$ and $f(b)$."
   ]
  },
  {
   "cell_type": "code",
   "execution_count": 19,
   "metadata": {},
   "outputs": [
    {
     "name": "stdout",
     "output_type": "stream",
     "text": [
      "f(a) = f(-5) = -700 and f(b) = f(1) = 1232\n"
     ]
    }
   ],
   "source": [
    "a = -5\n",
    "b = 1\n",
    "print(\"f(a) = f(-5) =\", f(-5), \"and f(b) = f(1) =\",f(1))"
   ]
  },
  {
   "cell_type": "markdown",
   "metadata": {},
   "source": [
    "Use the following FindRootBisection method to find the root to within a precision of $10^{-12}$"
   ]
  },
  {
   "cell_type": "code",
   "execution_count": 68,
   "metadata": {},
   "outputs": [],
   "source": [
    "# This function only works when a < b and f(a) < 0 < f(b)\n",
    "def FindRootBisection(f, a, b, tol, printSteps=False):\n",
    "    left = a\n",
    "    right = b\n",
    "    while right-left > tol:\n",
    "        midpoint = (left+right)/2\n",
    "        if(f(midpoint) < 0):\n",
    "            left = midpoint\n",
    "        else:\n",
    "            right = midpoint\n",
    "        if(printSteps == True):\n",
    "            print(midpoint)\n",
    "    return midpoint"
   ]
  },
  {
   "cell_type": "code",
   "execution_count": 25,
   "metadata": {},
   "outputs": [
    {
     "name": "stdout",
     "output_type": "stream",
     "text": [
      "A root was found at x = -3.0\n"
     ]
    }
   ],
   "source": [
    "root = FindRootBisection(f,a,b,10**-12)\n",
    "print(\"A root was found at x =\", np.round(root, 12))"
   ]
  },
  {
   "cell_type": "markdown",
   "metadata": {},
   "source": [
    "### Q. 1c\n",
    "As the comment on the above FindRootBisection( ) function says it only works when $a<b$ and $f(a) < 0 < f(b)$. Create a new function that: \n",
    " - **also** works when $f(a) > 0 > f(b)$. \n",
    " - Checks that $\\text{sign}(f(a)) \\neq \\text{sign}(f(b))$. If not the function should return \"Cannot use bisection method as sign(f(a)) = sign(f(b)) \", where $a$ and $b$ have been replaced by their values\n",
    " \n",
    "Call your new function FindRootBisectionImproved( ).  \n",
    "Useful function: np.sign(x) will return sign(x)\n",
    "\n",
    "Check your new function by:\n",
    " - finding the root between $x = 2.5$ and $x=6$\n",
    " - attempting to find a root between $x=6$ and $x=8$ (there is no root in this region)"
   ]
  },
  {
   "cell_type": "code",
   "execution_count": 62,
   "metadata": {},
   "outputs": [
    {
     "name": "stdout",
     "output_type": "stream",
     "text": [
      "5.0\n",
      "Cannot use bisection method as sign(f(6)) = sign(f(8)) (The below answer is not a root)\n",
      "6\n"
     ]
    }
   ],
   "source": [
    "def FindRootBisection(f, a, b, tol, printSteps=False):\n",
    "    if a - b > 0:              ##comparing a and b\n",
    "        left = a\n",
    "        right = b\n",
    "    elif a - b < 0:\n",
    "        left = b\n",
    "        right = a\n",
    "    if np.sign(f(a)) == np.sign(f(b)):  ##comparing sing a and sign b\n",
    "        print(\"Cannot use bisection method as sign(f(\"+str(a)+\")) = sign(f(\"+str(b)+\")) (The below answer is not a root)\")\n",
    "        return a\n",
    "    while left - right > tol:\n",
    "        midpoint = (left+right)/2\n",
    "        if(f(midpoint) < 0):\n",
    "            right = midpoint\n",
    "        else:\n",
    "            left = midpoint\n",
    "        if(printSteps == True):\n",
    "                print(midpoint)\n",
    "    return midpoint\n",
    "print(round(FindRootBisection(f, 2.5, 6, 10**-12),10))\n",
    "print(FindRootBisection(f, 6, 8, 10**-12))\n"
   ]
  },
  {
   "cell_type": "markdown",
   "metadata": {},
   "source": [
    "**Commit this question to your git repository and push the changes to GitHub**"
   ]
  },
  {
   "cell_type": "markdown",
   "metadata": {},
   "source": [
    "## Question 2: Newton-Raphson method"
   ]
  },
  {
   "cell_type": "markdown",
   "metadata": {},
   "source": [
    "### Q. 2a\n",
    " - Define a function $p(x) = \\sinh^{-1} x$. Calculate its derivative and define it as $dp(x) = \\dots$\n",
    " - Plot the function between $x=-11$ and $x=6$. Label the plot axes and use a grid."
   ]
  },
  {
   "cell_type": "code",
   "execution_count": 70,
   "metadata": {},
   "outputs": [
    {
     "data": {
      "text/plain": [
       "Text(0, 0.5, 'arcsinh(x)')"
      ]
     },
     "execution_count": 70,
     "metadata": {},
     "output_type": "execute_result"
    },
    {
     "data": {
      "image/png": "[encoded data removed]",
      "text/plain": [
       "<Figure size 432x288 with 1 Axes>"
      ]
     },
     "metadata": {
      "needs_background": "light"
     },
     "output_type": "display_data"
    }
   ],
   "source": [
    "def p(x):\n",
    "    p = np.arcsinh(x)\n",
    "    return p\n",
    "def dp(x):\n",
    "    dp = 1/np.sqrt(x**2+1)\n",
    "    return dp\n",
    "x = np.arange(-11,6,.1)\n",
    "plt.grid(True)\n",
    "plt.plot(x,p(x),'c-')\n",
    "plt.title(\"Graph of p(x)\")\n",
    "plt.xlabel(\"x\")\n",
    "plt.ylabel(\"arcsinh(x)\")"
   ]
  },
  {
   "cell_type": "markdown",
   "metadata": {},
   "source": [
    "### Q. 2b\n",
    " - Starting with a value near the root use the below Newton-Raphson code to find the root"
   ]
  },
  {
   "cell_type": "code",
   "execution_count": 87,
   "metadata": {},
   "outputs": [],
   "source": [
    "def FindRootNewtonRaphson(f, df, x0, tol, printSteps=False):\n",
    "    f0 = f(x0)\n",
    "    count = 1\n",
    "    while np.abs(f0) > tol and count < 20:\n",
    "        f0 = f(x0)\n",
    "        x0 = x0 - f0/df(x0)\n",
    "        count += 1\n",
    "        if(printSteps):\n",
    "            print(\"x_%d = %.14lf\" % (count, x0))\n",
    "    return x0"
   ]
  },
  {
   "cell_type": "code",
   "execution_count": 73,
   "metadata": {},
   "outputs": [
    {
     "data": {
      "text/plain": [
       "0.0"
      ]
     },
     "execution_count": 73,
     "metadata": {},
     "output_type": "execute_result"
    }
   ],
   "source": [
    "FindRootNewtonRaphson(p,dp,1,10**-12)"
   ]
  },
  {
   "cell_type": "markdown",
   "metadata": {},
   "source": [
    "### Q. 2c\n",
    "As we discussed in the lectures, the Newton-Raphson method (usually) converges quadradically if an initial guess is given that is sufficiently close to the root. If the guess is too far from the root the method can diverge. In this question we will find the critical value between converging and diverging where the method oscilliates with period 2.\n",
    "\n",
    "If we define $F(x) = x - p(x)/p'(x)$, then a period-2 orbit will occur when $F(F(x)) = x$. In general this will be a complicated function so it might be very difficult to find the solution analytically. Instead, we can write this equation as $F(F(x)) - x = 0$, so the value of $x$ we want is the root.\n",
    "\n",
    "- Define a function F(x)\n",
    "- Define a function F2(x) which returns $F(F(x)) - x$\n",
    "- Plot F2(x) with labels and a grid"
   ]
  },
  {
   "cell_type": "code",
   "execution_count": 78,
   "metadata": {},
   "outputs": [
    {
     "data": {
      "text/plain": [
       "Text(0, 0.5, 'F2(x)')"
      ]
     },
     "execution_count": 78,
     "metadata": {},
     "output_type": "execute_result"
    },
    {
     "data": {
      "image/png": "[encoded data removed]",
      "text/plain": [
       "<Figure size 432x288 with 1 Axes>"
      ]
     },
     "metadata": {
      "needs_background": "light"
     },
     "output_type": "display_data"
    }
   ],
   "source": [
    "def F(x):\n",
    "    ans = x - p(x)/dp(x)\n",
    "    return ans\n",
    "def F2(x):\n",
    "    ans = F(F(x)) - x\n",
    "    return ans\n",
    "x = np.arange(-11,6,.1)\n",
    "plt.plot(x,F2(x),'g-')\n",
    "plt.grid(True)\n",
    "plt.title(\"Graph of F2(x)\")\n",
    "plt.xlabel(\"x\")\n",
    "plt.ylabel(\"F2(x)\")"
   ]
  },
  {
   "cell_type": "markdown",
   "metadata": {},
   "source": [
    "- We want to find a root with $x \\neq 0$. As we don't have easy access to the derivative of the function $F2(x)$ use the bisection method function from above to find a root of $F2(x)$ to a precision of $10^{-15}$. Use the plot from the previous part to bracket a root. **Assign** the vaue of the root of the variable 'x2' and also print(x2).\n",
    "- Use the Newton-Raphson method with the function $p(x)$ and the initial guess x2. Set the final argument to True to print out the steps in the method takes. You should see that they oscillate between two values and the algorithm does not converge."
   ]
  },
  {
   "cell_type": "code",
   "execution_count": 90,
   "metadata": {},
   "outputs": [
    {
     "name": "stdout",
     "output_type": "stream",
     "text": [
      "3.319826386395148\n",
      "x_2 = -3.31982638639515\n",
      "x_3 = 3.31982638639515\n",
      "x_4 = -3.31982638639514\n",
      "x_5 = 3.31982638639514\n",
      "x_6 = -3.31982638639513\n",
      "x_7 = 3.31982638639511\n",
      "x_8 = -3.31982638639507\n",
      "x_9 = 3.31982638639501\n",
      "x_10 = -3.31982638639490\n",
      "x_11 = 3.31982638639469\n",
      "x_12 = -3.31982638639431\n",
      "x_13 = 3.31982638639361\n",
      "x_14 = -3.31982638639232\n",
      "x_15 = 3.31982638638996\n",
      "x_16 = -3.31982638638564\n",
      "x_17 = 3.31982638637771\n",
      "x_18 = -3.31982638636317\n",
      "x_19 = 3.31982638633652\n",
      "x_20 = -3.31982638628765\n"
     ]
    },
    {
     "data": {
      "text/plain": [
       "-3.3198263862876463"
      ]
     },
     "execution_count": 90,
     "metadata": {},
     "output_type": "execute_result"
    }
   ],
   "source": [
    "x2 = FindRootBisection(F2, .1, 10, 10**-15)\n",
    "print(x2)\n",
    "FindRootNewtonRaphson(p, dp, x2, 10**-15, True)\n"
   ]
  },
  {
   "cell_type": "markdown",
   "metadata": {},
   "source": [
    "By slightly perturbing the initial guess we can get the method to converge or diverge. Try:\n",
    " - adding $10^{-3}$ to the initial guess. Does the method converge or diverge?\n",
    " - subtracting $10^{-3}$ from the initial guess. Does the method converge or diverge?\n",
    " \n",
    "In both cases set the final argument to 'True' to get the function to print the steps the method is taking"
   ]
  },
  {
   "cell_type": "code",
   "execution_count": 93,
   "metadata": {},
   "outputs": [
    {
     "name": "stdout",
     "output_type": "stream",
     "text": [
      "Try x0 = x2+10^-3\n",
      "x_2 = -3.32166017534519\n",
      "x_3 = 3.32318941448714\n",
      "x_4 = -3.32599474945762\n",
      "x_5 = 3.33114299306826\n",
      "x_6 = -3.34059743357328\n",
      "x_7 = 3.35798209341778\n",
      "x_8 = -3.39002330308560\n",
      "x_9 = 3.44932929068383\n",
      "x_10 = -3.55995186656866\n",
      "x_11 = 3.76918950842467\n",
      "x_12 = -4.17488530024739\n",
      "x_13 = 4.99611226214762\n",
      "x_14 = -6.78235424034431\n",
      "x_15 = 11.13059074590426\n",
      "x_16 = -23.56748729013745\n",
      "x_17 = 67.33071923384574\n",
      "x_18 = -262.81601050143900\n",
      "x_19 = 1383.63440311495151\n",
      "x_20 = -9582.52377424232873\n",
      "This value of x0 diverges\n",
      "Try x0 = x2+10^-3\n",
      "x_2 = -3.31799291955419\n",
      "x_3 = 3.31646503192368\n",
      "x_4 = -3.31366473335724\n",
      "x_5 = 3.30853432591227\n",
      "x_6 = -3.29914150942781\n",
      "x_7 = 3.28196707676460\n",
      "x_8 = -3.25063825727736\n",
      "x_9 = 3.19373767283546\n",
      "x_10 = -3.09122130707522\n",
      "x_11 = 2.90927347399593\n",
      "x_12 = -2.59540431535248\n",
      "x_13 = 2.08314783302489\n",
      "x_14 = -1.33723662270818\n",
      "x_15 = 0.50112317029151\n",
      "x_16 = -0.03825335712818\n",
      "x_17 = 0.00001864804651\n",
      "x_18 = -0.00000000000000\n",
      "x_19 = 0.00000000000000\n",
      "x_20 = 0.00000000000000\n",
      "This value of x0 converges to 0\n"
     ]
    }
   ],
   "source": [
    "print(\"Try x0 = x2+10^-3\")\n",
    "FindRootNewtonRaphson(p, dp, x2+10**-3, 10**-15, True)\n",
    "print(\"This value of x0 diverges\")\n",
    "print(\"Try x0 = x2+10^-3\")\n",
    "FindRootNewtonRaphson(p, dp, x2-10**-3, 10**-15, True)\n",
    "print(\"This value of x0 converges to 0\")"
   ]
  },
  {
   "cell_type": "markdown",
   "metadata": {},
   "source": [
    "**Commit this question to your git repository and push the changes to GitHub**"
   ]
  },
  {
   "cell_type": "markdown",
   "metadata": {},
   "source": [
    "## Question 3: Slow convergence of the Newton-Raphson method at repeated roots\n",
    "The Newton-Raphson method usual converges quadratically but it will converge more slowly at repeated roots. In this question we will look at an example of this."
   ]
  },
  {
   "cell_type": "markdown",
   "metadata": {},
   "source": [
    "Define the function $g(x) = (x-2)^2(x+1)$, and also define its derivative $g'(x)$. Plot the function from $x=-2\\dots3$"
   ]
  },
  {
   "cell_type": "code",
   "execution_count": 108,
   "metadata": {},
   "outputs": [
    {
     "data": {
      "text/plain": [
       "[<matplotlib.lines.Line2D at 0x261242d59e8>]"
      ]
     },
     "execution_count": 108,
     "metadata": {},
     "output_type": "execute_result"
    },
    {
     "data": {
      "image/png": "[encoded data removed]",
      "text/plain": [
       "<Figure size 432x288 with 1 Axes>"
      ]
     },
     "metadata": {
      "needs_background": "light"
     },
     "output_type": "display_data"
    }
   ],
   "source": [
    "def g(x):\n",
    "    ans = ((x-2)**2)*(x-1)\n",
    "    return ans\n",
    "def dg(x):\n",
    "    ans = (x-2)*(3*x-4)\n",
    "    return ans\n",
    "x = np.arange(-2,3,.1)\n",
    "plt.grid(True)\n",
    "plt.plot(x,g(x),'b-')"
   ]
  },
  {
   "cell_type": "markdown",
   "metadata": {},
   "source": [
    "Run the FindRootNewtonRaphson function with the final (optional) argument set to True to see the steps the algorithm takes. Run it with:\n",
    " - the initial value of $x_0 = 3$\n",
    " - the initial value of $x_0 = -2$"
   ]
  },
  {
   "cell_type": "code",
   "execution_count": 105,
   "metadata": {},
   "outputs": [
    {
     "name": "stdout",
     "output_type": "stream",
     "text": [
      "x_2 = 2.60000000000000\n",
      "x_3 = 2.34736842105263\n",
      "x_4 = 2.19351666363140\n",
      "x_5 = 2.10401428485578\n",
      "x_6 = 2.05434684202141\n",
      "x_7 = 2.02785615885175\n",
      "x_8 = 2.01411429014914\n",
      "x_9 = 2.00710591582440\n",
      "x_10 = 2.00356544828878\n",
      "x_11 = 2.00178588534313\n",
      "x_12 = 2.00089373788793\n",
      "x_13 = 2.00044706836847\n",
      "x_14 = 2.00022358411828\n",
      "x_15 = 2.00011180455241\n",
      "x_16 = 2.00005590540075\n",
      "x_17 = 2.00002795348166\n",
      "x_18 = 2.00001397693617\n",
      "x_19 = 2.00000698851692\n",
      "x_20 = 2.00000349427067\n",
      "x0 = 3, root = 2.0000034942706715\n",
      "x_2 = -0.80000000000000\n",
      "x_3 = -0.01250000000000\n",
      "x_4 = 0.49218266253870\n",
      "x_5 = 0.79561454154013\n",
      "x_6 = 0.94820909334345\n",
      "x_7 = 0.99535682647522\n",
      "x_8 = 0.99995747424265\n",
      "x_9 = 0.99999999638358\n",
      "x_10 = 1.00000000000000\n",
      "x_11 = 1.00000000000000\n",
      "x0 = -2, root = 1.0\n"
     ]
    }
   ],
   "source": [
    "print(\"x0 = 3, root =\", FindRootNewtonRaphson(g, dg, 3, 10**-12, True))\n",
    "print(\"x0 = -2, root =\", FindRootNewtonRaphson(g, dg, -2, 10**-12, True))\n",
    "print(\"It takes nearly twice as many iterations for the function to converge around 2 than 1\")"
   ]
  },
  {
   "cell_type": "markdown",
   "metadata": {},
   "source": [
    "What do you notice about the convergence rates in these two cases? Let's examine it more carefully. The function below returns the individual steps of the Newton-Raphson algorithm."
   ]
  },
  {
   "cell_type": "code",
   "execution_count": 110,
   "metadata": {},
   "outputs": [],
   "source": [
    "def FindRootNewtonRaphsonSteps(f, df, x0, tol):\n",
    "    steps = np.array([x0])\n",
    "    f0 = f(x0)\n",
    "    count = 1\n",
    "    while np.abs(f0) > tol:\n",
    "        f0 = f(x0)\n",
    "        x0 = x0 - f0/df(x0)\n",
    "        steps = np.append(steps, x0)\n",
    "        count += 1\n",
    "    return steps"
   ]
  },
  {
   "cell_type": "markdown",
   "metadata": {},
   "source": [
    "Using the above function:\n",
    "- compute the steps for the function $g(x)$ with  $x_0 = 3$. Assign the result to a variable.\n",
    "- compute the steps for the function $g(x)$ with  $x_0 = -2$. Assign the result to a different variable."
   ]
  },
  {
   "cell_type": "code",
   "execution_count": 123,
   "metadata": {},
   "outputs": [
    {
     "name": "stdout",
     "output_type": "stream",
     "text": [
      "x0 = 3, steps = [3.         2.6        2.34736842 2.19351666 2.10401428 2.05434684\n",
      " 2.02785616 2.01411429 2.00710592 2.00356545 2.00178589 2.00089374\n",
      " 2.00044707 2.00022358 2.0001118  2.00005591 2.00002795 2.00001398\n",
      " 2.00000699 2.00000349 2.00000175 2.00000087 2.00000044]\n",
      "x0 = -2, steps = [-2.         -0.8        -0.0125      0.49218266  0.79561454  0.94820909\n",
      "  0.99535683  0.99995747  1.          1.          1.        ]\n"
     ]
    }
   ],
   "source": [
    "steps2 = FindRootNewtonRaphsonSteps(g, dg, 3, 10**-12)\n",
    "steps1 = FindRootNewtonRaphsonSteps(g, dg, -2, 10**-12)\n",
    "print(\"x0 = 3, steps =\", steps2)\n",
    "print(\"x0 = -2, steps =\", steps1)"
   ]
  },
  {
   "cell_type": "markdown",
   "metadata": {},
   "source": [
    "Plot the absolute difference between the steps and the root, i.e., $|x_n - x_*|$, on a log scale."
   ]
  },
  {
   "cell_type": "code",
   "execution_count": 131,
   "metadata": {},
   "outputs": [
    {
     "data": {
      "text/plain": [
       "[<matplotlib.lines.Line2D at 0x261245429b0>]"
      ]
     },
     "execution_count": 131,
     "metadata": {},
     "output_type": "execute_result"
    },
    {
     "data": {
      "image/png": "[encoded data removed]",
      "text/plain": [
       "<Figure size 432x288 with 1 Axes>"
      ]
     },
     "metadata": {
      "needs_background": "light"
     },
     "output_type": "display_data"
    }
   ],
   "source": [
    "def difference(x, root):\n",
    "    return abs(root-x)\n",
    "plt.yscale(\"log\")\n",
    "plt.grid(True)\n",
    "plt.ylabel(\"log\")\n",
    "root = 2\n",
    "x = np.arange(0,np.size(steps2),1)\n",
    "plt.plot(x,difference(steps2[x],root),'g-')\n",
    "root = 1\n",
    "x = np.arange(0,np.size(steps1),1)\n",
    "plt.plot(x,difference(steps1[x],root),'cx')\n"
   ]
  },
  {
   "cell_type": "markdown",
   "metadata": {},
   "source": [
    "You should find the difference for the repeated root looks linear on the log-scale, which is the same as we saw for the bisection method. This (correctly) suggests that for repeated roots the Newton-Raphson converges linearly (rather than quadratically)"
   ]
  },
  {
   "cell_type": "markdown",
   "metadata": {},
   "source": [
    "**Commit this question to your git repository and push the changes to GitHub**"
   ]
  },
  {
   "cell_type": "markdown",
   "metadata": {},
   "source": [
    "## Submitting the assignment\n",
    "\n",
    "Submit the assignment the same way you did with the first one.\n",
    "\n",
    "To submit your assignment you should zip the ACM20030-Assignments folder. Rename the zip file ACM20030-Assignments2-STUDENTNUMBER.zip where STUDENTNUMBER is your student number. Upload the zip file to BrightSpace."
   ]
  },
  {
   "cell_type": "code",
   "execution_count": null,
   "metadata": {},
   "outputs": [],
   "source": []
  }
 ],
 "metadata": {
  "kernelspec": {
   "display_name": "Python 3",
   "language": "python",
   "name": "python3"
  },
  "language_info": {
   "codemirror_mode": {
    "name": "ipython",
    "version": 3
   },
   "file_extension": ".py",
   "mimetype": "text/x-python",
   "name": "python",
   "nbconvert_exporter": "python",
   "pygments_lexer": "ipython3",
   "version": "3.7.3"
  }
 },
 "nbformat": 4,
 "nbformat_minor": 2
}
