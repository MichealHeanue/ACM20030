{
 "cells": [
  {
   "cell_type": "code",
   "execution_count": 31,
   "metadata": {},
   "outputs": [],
   "source": [
    "## QUESTION 1\n",
    "import numpy as np\n",
    "import matplotlib.pyplot as plt"
   ]
  },
  {
   "cell_type": "code",
   "execution_count": 32,
   "metadata": {},
   "outputs": [
    {
     "name": "stdout",
     "output_type": "stream",
     "text": [
      "The length of the vector (5,6) is 7.810249675906654 \n",
      "and the length of the vector (-1,5) is 5.0990195135927845\n"
     ]
    }
   ],
   "source": [
    "def VectorLength(x,y):\n",
    "    result = np.sqrt(x**2+y**2)\n",
    "    return result\n",
    "print(\"The length of the vector (5,6) is\", VectorLength(5,6), \"\\nand the length of the vector (-1,5) is\" , VectorLength(-1,5))"
   ]
  },
  {
   "cell_type": "code",
   "execution_count": 33,
   "metadata": {},
   "outputs": [
    {
     "name": "stdout",
     "output_type": "stream",
     "text": [
      "Sin(1) =  0.841\n"
     ]
    }
   ],
   "source": [
    "print(\"Sin(1) = \" , round(np.sin(1), 3))"
   ]
  },
  {
   "cell_type": "code",
   "execution_count": 34,
   "metadata": {},
   "outputs": [
    {
     "name": "stdout",
     "output_type": "stream",
     "text": [
      "1 0\n",
      "2 1\n",
      "3 1\n",
      "4 0\n",
      "5 1\n",
      "6 0\n",
      "7 1\n",
      "8 0\n",
      "9 0\n",
      "10 0\n"
     ]
    }
   ],
   "source": [
    "## QUESTION 2\n",
    "def IsPrime(n):\n",
    "    if (n == 1):   # makes an exception for n = 1.\n",
    "        return 0\n",
    "    i = 2\n",
    "    while i <= np.sqrt(n): # changed < to <= to fix square numbers showing up as prime\n",
    "        #for each i check if it divides n\n",
    "        if(n % i == 0):\n",
    "            #print(i, \"divides\", n) # to troubleshoot 4 and 9\n",
    "            return 0\n",
    "        i += 1\n",
    "    #If no divosors are found, the number is prime\n",
    "    return 1\n",
    "for i in range(0,10):\n",
    "    print(i+1, IsPrime(i+1))\n",
    "# a) This function does not work, it says 1, 4 and 9 are prime.\n",
    "  \n"
   ]
  },
  {
   "cell_type": "code",
   "execution_count": 35,
   "metadata": {},
   "outputs": [
    {
     "name": "stdout",
     "output_type": "stream",
     "text": [
      "The number of primes up to 1000 is 168\n"
     ]
    }
   ],
   "source": [
    "PrimeTotal = 0\n",
    "for j in range(0, 1000):\n",
    "    if IsPrime(j+1) == 1:\n",
    "        PrimeTotal += 1\n",
    "print(\"The number of primes up to 1000 is\", PrimeTotal)"
   ]
  },
  {
   "cell_type": "code",
   "execution_count": 36,
   "metadata": {},
   "outputs": [
    {
     "name": "stdout",
     "output_type": "stream",
     "text": [
      "The number of primes up to 1000 is 168 \n",
      "and up to 10000 is 1229\n"
     ]
    }
   ],
   "source": [
    "def PrimeCount(x):\n",
    "    PrimeTotal = 0\n",
    "    for j in range(0, x):\n",
    "        if IsPrime(j+1) == 1:\n",
    "            PrimeTotal += 1\n",
    "    return PrimeTotal\n",
    "print(\"The number of primes up to 1000 is\", PrimeCount(1000), \"\\nand up to 10000 is\", PrimeCount(10000))"
   ]
  },
  {
   "cell_type": "code",
   "execution_count": 8,
   "metadata": {},
   "outputs": [
    {
     "data": {
      "text/plain": [
       "[<matplotlib.lines.Line2D at 0x1f73fbe00f0>]"
      ]
     },
     "execution_count": 8,
     "metadata": {},
     "output_type": "execute_result"
    },
    {
     "data": {
      "image/png": "[encoded data removed]",
      "text/plain": [
       "<Figure size 432x288 with 1 Axes>"
      ]
     },
     "metadata": {
      "needs_background": "light"
     },
     "output_type": "display_data"
    }
   ],
   "source": [
    "x= np.arange(0,40,1)\n",
    "Pi = np.zeros(40)\n",
    "i = 0\n",
    "while i < np.size(Pi):\n",
    "    Pi[i]=PrimeCount(i)\n",
    "    i += 1\n",
    "    \n",
    "plt.grid(True)\n",
    "plt.xlabel(\"x\")\n",
    "plt.ylabel(\"Pi(x)\")\n",
    "plt.plot(x,Pi,'ro')"
   ]
  },
  {
   "cell_type": "code",
   "execution_count": 38,
   "metadata": {},
   "outputs": [
    {
     "data": {
      "text/plain": [
       "[<matplotlib.lines.Line2D at 0x1f89b2f8198>]"
      ]
     },
     "execution_count": 38,
     "metadata": {},
     "output_type": "execute_result"
    },
    {
     "data": {
      "image/png": "[encoded data removed]",
      "text/plain": [
       "<Figure size 432x288 with 1 Axes>"
      ]
     },
     "metadata": {
      "needs_background": "light"
     },
     "output_type": "display_data"
    }
   ],
   "source": [
    "## QUESTION 3\n",
    "numbers = np.loadtxt(\"PowerLawOrExponential.txt\")\n",
    "#numbers[1][0]\n",
    "x = np.zeros(100)\n",
    "y = np.zeros(100)\n",
    "for i in range(0,100):\n",
    "    x[i] = numbers[i][0]\n",
    "    y[i] = numbers[i][1]\n",
    "plt.grid(True)\n",
    "plt.ylabel(\"Log Y\")\n",
    "plt.xlabel(\"X\")\n",
    "plt.yscale('log')\n",
    "plt.plot(x,y,'rx')"
   ]
  },
  {
   "cell_type": "code",
   "execution_count": 13,
   "metadata": {},
   "outputs": [
    {
     "data": {
      "text/plain": [
       "<matplotlib.legend.Legend at 0x1f7401be630>"
      ]
     },
     "execution_count": 13,
     "metadata": {},
     "output_type": "execute_result"
    },
    {
     "data": {
      "image/png": "[encoded data removed]",
      "text/plain": [
       "<Figure size 432x288 with 1 Axes>"
      ]
     },
     "metadata": {
      "needs_background": "light"
     },
     "output_type": "display_data"
    }
   ],
   "source": [
    "n = 2\n",
    "plt.xscale('log')\n",
    "plt.yscale('log')\n",
    "plt.ylabel(\"Log Y\")\n",
    "plt.xlabel(\"Log X\")\n",
    "plt.grid(True)\n",
    "plt.plot(x,y,'cx',label='PowerLawOrExponential.txt')\n",
    "#This graph is an equation of the form x^n where n is constant (power law) \n",
    "#since in that case the result on a log-log graph is a staright line\n",
    "xsample = np.arange(0,10,.01)\n",
    "ysample = np.zeros(1000)\n",
    "for i in range(0, np.size(ysample)):\n",
    "    ysample[i]=xsample[i]**n\n",
    "plt.plot(xsample, ysample, 'r-',label=\"x^n curve to determine n\")\n",
    "plt.legend()\n",
    "#by inspecting various values of n and comaparing the output of x^n with the original data,\n",
    "#It was determined the graph was equal to the graph of x^2.\n"
   ]
  },
  {
   "cell_type": "code",
   "execution_count": 14,
   "metadata": {},
   "outputs": [
    {
     "data": {
      "text/plain": [
       "<matplotlib.legend.Legend at 0x1f741346588>"
      ]
     },
     "execution_count": 14,
     "metadata": {},
     "output_type": "execute_result"
    },
    {
     "data": {
      "image/png": "[encoded data removed]",
      "text/plain": [
       "<Figure size 432x288 with 1 Axes>"
      ]
     },
     "metadata": {
      "needs_background": "light"
     },
     "output_type": "display_data"
    }
   ],
   "source": [
    "#Here is the same data on normal axes.\n",
    "plt.ylabel(\"Y\")\n",
    "plt.xlabel(\"X\")\n",
    "plt.grid(True)\n",
    "plt.plot(x,y,'cx',label='PowerLawOrExponential.txt')\n",
    "plt.plot(xsample, ysample, 'r-',label=\"x^n curve to determine n\")\n",
    "plt.legend()"
   ]
  },
  {
   "cell_type": "code",
   "execution_count": null,
   "metadata": {},
   "outputs": [],
   "source": []
  },
  {
   "cell_type": "code",
   "execution_count": null,
   "metadata": {},
   "outputs": [],
   "source": []
  },
  {
   "cell_type": "code",
   "execution_count": null,
   "metadata": {},
   "outputs": [],
   "source": []
  }
 ],
 "metadata": {
  "kernelspec": {
   "display_name": "Python 3",
   "language": "python",
   "name": "python3"
  },
  "language_info": {
   "codemirror_mode": {
    "name": "ipython",
    "version": 3
   },
   "file_extension": ".py",
   "mimetype": "text/x-python",
   "name": "python",
   "nbconvert_exporter": "python",
   "pygments_lexer": "ipython3",
   "version": "3.7.3"
  }
 },
 "nbformat": 4,
 "nbformat_minor": 2
}
