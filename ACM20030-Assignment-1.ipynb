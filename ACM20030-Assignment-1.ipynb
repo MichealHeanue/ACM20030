{
 "cells": [
  {
   "cell_type": "code",
   "execution_count": 1,
   "metadata": {},
   "outputs": [],
   "source": [
    "import numpy as np\n",
    "import matplotlib.pyplot as plt"
   ]
  },
  {
   "cell_type": "code",
   "execution_count": 8,
   "metadata": {},
   "outputs": [
    {
     "name": "stdout",
     "output_type": "stream",
     "text": [
      "The length of the vector (5,6) is 7.810249675906654 \n",
      "and the length of the vector (-1,5) is 5.0990195135927845\n"
     ]
    }
   ],
   "source": [
    "def VectorLength(x,y):\n",
    "    result = np.sqrt(x**2+y**2)\n",
    "    return result\n",
    "print(\"The length of the vector (5,6) is\", VectorLength(5,6), \"\\nand the length of the vector (-1,5) is\" , VectorLength(-1,5))"
   ]
  },
  {
   "cell_type": "code",
   "execution_count": 9,
   "metadata": {},
   "outputs": [
    {
     "name": "stdout",
     "output_type": "stream",
     "text": [
      "Sin(1) =  0.841\n"
     ]
    }
   ],
   "source": [
    "print(\"Sin(1) = \" , round(np.sin(1), 3))"
   ]
  },
  {
   "cell_type": "code",
   "execution_count": 16,
   "metadata": {},
   "outputs": [
    {
     "name": "stdout",
     "output_type": "stream",
     "text": [
      "1 0\n",
      "2 1\n",
      "3 1\n",
      "2 divides 4\n",
      "4 0\n",
      "5 1\n",
      "2 divides 6\n",
      "6 0\n",
      "7 1\n",
      "2 divides 8\n",
      "8 0\n",
      "3 divides 9\n",
      "9 0\n",
      "2 divides 10\n",
      "10 0\n"
     ]
    }
   ],
   "source": [
    "def IsPrime(n):\n",
    "    if (n == 1):   # makes an exception for n = 1.\n",
    "        return 0\n",
    "    i = 2\n",
    "    while i <= np.sqrt(n): # changed < to <= to fix square numbers showing up as prime\n",
    "        #for each i check if it divides n\n",
    "        if(n % i == 0):\n",
    "            print(i, \"divides\", n) # to troubleshoot 4 and 9\n",
    "            return 0\n",
    "        i += 1\n",
    "    #If no divosors are found, the number is prime\n",
    "    return 1\n",
    "for i in range(0,10):\n",
    "    print(i+1, IsPrime(i+1))\n",
    "# a) This function does not work, it says 1, 4 and 9 are prime.\n"
   ]
  },
  {
   "cell_type": "code",
   "execution_count": null,
   "metadata": {},
   "outputs": [],
   "source": []
  }
 ],
 "metadata": {
  "kernelspec": {
   "display_name": "Python 3",
   "language": "python",
   "name": "python3"
  },
  "language_info": {
   "codemirror_mode": {
    "name": "ipython",
    "version": 3
   },
   "file_extension": ".py",
   "mimetype": "text/x-python",
   "name": "python",
   "nbconvert_exporter": "python",
   "pygments_lexer": "ipython3",
   "version": "3.7.3"
  }
 },
 "nbformat": 4,
 "nbformat_minor": 2
}
